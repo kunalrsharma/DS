{
 "cells": [
  {
   "cell_type": "code",
   "execution_count": 3,
   "metadata": {},
   "outputs": [],
   "source": [
    "# Load the data. \n",
    "\n",
    "import pandas as pd\n",
    "import numpy as np\n",
    "\n",
    "import pandas as pd\n",
    "\n",
    "df = pd.read_csv('./Downloads/TestData.csv')"
   ]
  },
  {
   "cell_type": "code",
   "execution_count": 4,
   "metadata": {},
   "outputs": [
    {
     "data": {
      "text/html": [
       "<div>\n",
       "<style scoped>\n",
       "    .dataframe tbody tr th:only-of-type {\n",
       "        vertical-align: middle;\n",
       "    }\n",
       "\n",
       "    .dataframe tbody tr th {\n",
       "        vertical-align: top;\n",
       "    }\n",
       "\n",
       "    .dataframe thead th {\n",
       "        text-align: right;\n",
       "    }\n",
       "</style>\n",
       "<table border=\"1\" class=\"dataframe\">\n",
       "  <thead>\n",
       "    <tr style=\"text-align: right;\">\n",
       "      <th></th>\n",
       "      <th>Height</th>\n",
       "      <th>Weight</th>\n",
       "      <th>BMI</th>\n",
       "      <th>AbdominalCircumference</th>\n",
       "      <th>VitalCapacity</th>\n",
       "      <th>BloodPressureSecond</th>\n",
       "      <th>BloodPressureFirst</th>\n",
       "      <th>UrinePH</th>\n",
       "      <th>Leukocyte</th>\n",
       "      <th>RedBloodCells</th>\n",
       "      <th>...</th>\n",
       "      <th>BloodSugar</th>\n",
       "      <th>FastingBloodSugar</th>\n",
       "      <th>bodyFatPercentage</th>\n",
       "      <th>Lym</th>\n",
       "      <th>TTT</th>\n",
       "      <th>RightEyeCorrection</th>\n",
       "      <th>Prostate</th>\n",
       "      <th>LeftEyeCorrection</th>\n",
       "      <th>PatientID</th>\n",
       "      <th>Label</th>\n",
       "    </tr>\n",
       "  </thead>\n",
       "  <tbody>\n",
       "    <tr>\n",
       "      <th>count</th>\n",
       "      <td>191.000000</td>\n",
       "      <td>188.000000</td>\n",
       "      <td>169.000000</td>\n",
       "      <td>127.000000</td>\n",
       "      <td>57.000000</td>\n",
       "      <td>91.000000</td>\n",
       "      <td>116.000000</td>\n",
       "      <td>133.000000</td>\n",
       "      <td>91.000000</td>\n",
       "      <td>195.000000</td>\n",
       "      <td>...</td>\n",
       "      <td>145.000000</td>\n",
       "      <td>85.000000</td>\n",
       "      <td>59.000000</td>\n",
       "      <td>77.000000</td>\n",
       "      <td>51.000000</td>\n",
       "      <td>93.000000</td>\n",
       "      <td>108.000000</td>\n",
       "      <td>94.000000</td>\n",
       "      <td>9.970000e+02</td>\n",
       "      <td>997.000000</td>\n",
       "    </tr>\n",
       "    <tr>\n",
       "      <th>mean</th>\n",
       "      <td>169.454450</td>\n",
       "      <td>73.289617</td>\n",
       "      <td>24.951006</td>\n",
       "      <td>83.620551</td>\n",
       "      <td>3.159123</td>\n",
       "      <td>77.084615</td>\n",
       "      <td>112.159483</td>\n",
       "      <td>5.385602</td>\n",
       "      <td>6003.021978</td>\n",
       "      <td>437.353846</td>\n",
       "      <td>...</td>\n",
       "      <td>99.162759</td>\n",
       "      <td>98.524706</td>\n",
       "      <td>20.091695</td>\n",
       "      <td>24.645455</td>\n",
       "      <td>3.056863</td>\n",
       "      <td>2.026882</td>\n",
       "      <td>1.069843</td>\n",
       "      <td>2.186170</td>\n",
       "      <td>4.018053e+06</td>\n",
       "      <td>1.118355</td>\n",
       "    </tr>\n",
       "    <tr>\n",
       "      <th>std</th>\n",
       "      <td>8.505043</td>\n",
       "      <td>46.492055</td>\n",
       "      <td>6.897452</td>\n",
       "      <td>16.046830</td>\n",
       "      <td>1.989713</td>\n",
       "      <td>16.895245</td>\n",
       "      <td>29.162597</td>\n",
       "      <td>2.156957</td>\n",
       "      <td>2791.484862</td>\n",
       "      <td>169.228763</td>\n",
       "      <td>...</td>\n",
       "      <td>30.477681</td>\n",
       "      <td>25.262375</td>\n",
       "      <td>8.998808</td>\n",
       "      <td>14.492244</td>\n",
       "      <td>2.241183</td>\n",
       "      <td>2.277114</td>\n",
       "      <td>0.691358</td>\n",
       "      <td>2.867939</td>\n",
       "      <td>1.521438e+04</td>\n",
       "      <td>1.175398</td>\n",
       "    </tr>\n",
       "    <tr>\n",
       "      <th>min</th>\n",
       "      <td>119.000000</td>\n",
       "      <td>20.000000</td>\n",
       "      <td>13.500000</td>\n",
       "      <td>35.000000</td>\n",
       "      <td>1.000000</td>\n",
       "      <td>21.000000</td>\n",
       "      <td>33.000000</td>\n",
       "      <td>1.100000</td>\n",
       "      <td>100.000000</td>\n",
       "      <td>52.000000</td>\n",
       "      <td>...</td>\n",
       "      <td>30.000000</td>\n",
       "      <td>28.000000</td>\n",
       "      <td>3.000000</td>\n",
       "      <td>8.100000</td>\n",
       "      <td>1.000000</td>\n",
       "      <td>0.100000</td>\n",
       "      <td>0.005000</td>\n",
       "      <td>0.100000</td>\n",
       "      <td>3.956543e+06</td>\n",
       "      <td>0.000000</td>\n",
       "    </tr>\n",
       "    <tr>\n",
       "      <th>25%</th>\n",
       "      <td>164.600000</td>\n",
       "      <td>57.375000</td>\n",
       "      <td>21.500000</td>\n",
       "      <td>81.000000</td>\n",
       "      <td>1.000000</td>\n",
       "      <td>69.000000</td>\n",
       "      <td>100.750000</td>\n",
       "      <td>4.000000</td>\n",
       "      <td>4845.000000</td>\n",
       "      <td>435.000000</td>\n",
       "      <td>...</td>\n",
       "      <td>86.000000</td>\n",
       "      <td>87.600000</td>\n",
       "      <td>14.950000</td>\n",
       "      <td>11.000000</td>\n",
       "      <td>1.000000</td>\n",
       "      <td>0.900000</td>\n",
       "      <td>0.619750</td>\n",
       "      <td>0.700000</td>\n",
       "      <td>4.012759e+06</td>\n",
       "      <td>0.000000</td>\n",
       "    </tr>\n",
       "    <tr>\n",
       "      <th>50%</th>\n",
       "      <td>169.800000</td>\n",
       "      <td>64.950000</td>\n",
       "      <td>24.100000</td>\n",
       "      <td>84.900000</td>\n",
       "      <td>3.500000</td>\n",
       "      <td>80.000000</td>\n",
       "      <td>121.000000</td>\n",
       "      <td>5.000000</td>\n",
       "      <td>6100.000000</td>\n",
       "      <td>479.000000</td>\n",
       "      <td>...</td>\n",
       "      <td>93.000000</td>\n",
       "      <td>96.000000</td>\n",
       "      <td>20.800000</td>\n",
       "      <td>20.600000</td>\n",
       "      <td>2.500000</td>\n",
       "      <td>1.000000</td>\n",
       "      <td>1.000000</td>\n",
       "      <td>1.000000</td>\n",
       "      <td>4.015578e+06</td>\n",
       "      <td>1.000000</td>\n",
       "    </tr>\n",
       "    <tr>\n",
       "      <th>75%</th>\n",
       "      <td>174.600000</td>\n",
       "      <td>75.050000</td>\n",
       "      <td>26.000000</td>\n",
       "      <td>85.255000</td>\n",
       "      <td>4.220000</td>\n",
       "      <td>84.000000</td>\n",
       "      <td>130.000000</td>\n",
       "      <td>6.000000</td>\n",
       "      <td>7235.000000</td>\n",
       "      <td>521.500000</td>\n",
       "      <td>...</td>\n",
       "      <td>102.000000</td>\n",
       "      <td>102.000000</td>\n",
       "      <td>26.400000</td>\n",
       "      <td>36.100000</td>\n",
       "      <td>4.000000</td>\n",
       "      <td>2.000000</td>\n",
       "      <td>1.047500</td>\n",
       "      <td>1.875000</td>\n",
       "      <td>4.032453e+06</td>\n",
       "      <td>2.000000</td>\n",
       "    </tr>\n",
       "    <tr>\n",
       "      <th>max</th>\n",
       "      <td>190.000000</td>\n",
       "      <td>480.000000</td>\n",
       "      <td>58.000000</td>\n",
       "      <td>185.000000</td>\n",
       "      <td>8.000000</td>\n",
       "      <td>147.000000</td>\n",
       "      <td>174.000000</td>\n",
       "      <td>15.000000</td>\n",
       "      <td>18370.000000</td>\n",
       "      <td>1422.000000</td>\n",
       "      <td>...</td>\n",
       "      <td>336.000000</td>\n",
       "      <td>184.000000</td>\n",
       "      <td>53.000000</td>\n",
       "      <td>71.000000</td>\n",
       "      <td>11.000000</td>\n",
       "      <td>13.000000</td>\n",
       "      <td>3.000000</td>\n",
       "      <td>12.000000</td>\n",
       "      <td>4.037800e+06</td>\n",
       "      <td>3.000000</td>\n",
       "    </tr>\n",
       "  </tbody>\n",
       "</table>\n",
       "<p>8 rows × 45 columns</p>\n",
       "</div>"
      ],
      "text/plain": [
       "           Height      Weight         BMI  AbdominalCircumference  \\\n",
       "count  191.000000  188.000000  169.000000              127.000000   \n",
       "mean   169.454450   73.289617   24.951006               83.620551   \n",
       "std      8.505043   46.492055    6.897452               16.046830   \n",
       "min    119.000000   20.000000   13.500000               35.000000   \n",
       "25%    164.600000   57.375000   21.500000               81.000000   \n",
       "50%    169.800000   64.950000   24.100000               84.900000   \n",
       "75%    174.600000   75.050000   26.000000               85.255000   \n",
       "max    190.000000  480.000000   58.000000              185.000000   \n",
       "\n",
       "       VitalCapacity  BloodPressureSecond  BloodPressureFirst     UrinePH  \\\n",
       "count      57.000000            91.000000          116.000000  133.000000   \n",
       "mean        3.159123            77.084615          112.159483    5.385602   \n",
       "std         1.989713            16.895245           29.162597    2.156957   \n",
       "min         1.000000            21.000000           33.000000    1.100000   \n",
       "25%         1.000000            69.000000          100.750000    4.000000   \n",
       "50%         3.500000            80.000000          121.000000    5.000000   \n",
       "75%         4.220000            84.000000          130.000000    6.000000   \n",
       "max         8.000000           147.000000          174.000000   15.000000   \n",
       "\n",
       "          Leukocyte  RedBloodCells     ...      BloodSugar  FastingBloodSugar  \\\n",
       "count     91.000000     195.000000     ...      145.000000          85.000000   \n",
       "mean    6003.021978     437.353846     ...       99.162759          98.524706   \n",
       "std     2791.484862     169.228763     ...       30.477681          25.262375   \n",
       "min      100.000000      52.000000     ...       30.000000          28.000000   \n",
       "25%     4845.000000     435.000000     ...       86.000000          87.600000   \n",
       "50%     6100.000000     479.000000     ...       93.000000          96.000000   \n",
       "75%     7235.000000     521.500000     ...      102.000000         102.000000   \n",
       "max    18370.000000    1422.000000     ...      336.000000         184.000000   \n",
       "\n",
       "       bodyFatPercentage        Lym        TTT  RightEyeCorrection  \\\n",
       "count          59.000000  77.000000  51.000000           93.000000   \n",
       "mean           20.091695  24.645455   3.056863            2.026882   \n",
       "std             8.998808  14.492244   2.241183            2.277114   \n",
       "min             3.000000   8.100000   1.000000            0.100000   \n",
       "25%            14.950000  11.000000   1.000000            0.900000   \n",
       "50%            20.800000  20.600000   2.500000            1.000000   \n",
       "75%            26.400000  36.100000   4.000000            2.000000   \n",
       "max            53.000000  71.000000  11.000000           13.000000   \n",
       "\n",
       "         Prostate  LeftEyeCorrection     PatientID       Label  \n",
       "count  108.000000          94.000000  9.970000e+02  997.000000  \n",
       "mean     1.069843           2.186170  4.018053e+06    1.118355  \n",
       "std      0.691358           2.867939  1.521438e+04    1.175398  \n",
       "min      0.005000           0.100000  3.956543e+06    0.000000  \n",
       "25%      0.619750           0.700000  4.012759e+06    0.000000  \n",
       "50%      1.000000           1.000000  4.015578e+06    1.000000  \n",
       "75%      1.047500           1.875000  4.032453e+06    2.000000  \n",
       "max      3.000000          12.000000  4.037800e+06    3.000000  \n",
       "\n",
       "[8 rows x 45 columns]"
      ]
     },
     "execution_count": 4,
     "metadata": {},
     "output_type": "execute_result"
    }
   ],
   "source": [
    "df.describe()"
   ]
  },
  {
   "cell_type": "code",
   "execution_count": 175,
   "metadata": {},
   "outputs": [
    {
     "name": "stdout",
     "output_type": "stream",
     "text": [
      "Rows in the data: 1994 \n",
      "Columns in data: 55\n"
     ]
    }
   ],
   "source": [
    "print(\"Rows in the data: {} \\nColumns in data: {}\".format(df.shape[0],df.shape[1]))"
   ]
  },
  {
   "cell_type": "code",
   "execution_count": 6,
   "metadata": {},
   "outputs": [
    {
     "data": {
      "text/plain": [
       "0.0    458\n",
       "2.0    220\n",
       "3.0    178\n",
       "1.0    141\n",
       "Name: Label, dtype: int64"
      ]
     },
     "execution_count": 6,
     "metadata": {},
     "output_type": "execute_result"
    }
   ],
   "source": [
    "dfc = df.copy() # Make a copy of the data. \n",
    "dfc['Label'].value_counts() # Evaluate different types of Labels. "
   ]
  },
  {
   "cell_type": "markdown",
   "metadata": {},
   "source": [
    "# 1. Cleaning & preparation of the dataset. "
   ]
  },
  {
   "cell_type": "code",
   "execution_count": 7,
   "metadata": {},
   "outputs": [],
   "source": [
    "# A simple program to deal with missing data. \n",
    "\n",
    "def missing_data(data):\n",
    "    print(\"The total missing data is {} while max missing data is: {}\".format(\n",
    "        data.isnull().sum().sum(),data.isnull().sum().max()))\n",
    "    print(\"Dropping rows with missing values in all columns\")\n",
    "    data2 = data.dropna(how='all',axis=0)\n",
    "    print(\"Number of rows in cleaned data\", data2.shape[0])\n",
    "    return data2\n",
    "\n",
    "\n",
    "\n",
    "def clean_data(data):\n",
    "    # Drop the duplicate rows\n",
    "    data1 = data.drop_duplicates()\n",
    "    print(\"Deleting duplicate rows and rows with missing Label\")\n",
    "    # Drop the missing values \"\"\n",
    "    for c in list(data1.columns.values):\n",
    "        data1.replace('', np.nan, inplace=True)\n",
    "    # As we are interestd in 'Labels', drop the rows where its NaN.\n",
    "    data1 = data1.dropna(subset=['Label'],axis=0)\n",
    "    #print(\"Number of rows:\", data1.shape[0])\n",
    "    return data1"
   ]
  },
  {
   "cell_type": "code",
   "execution_count": 8,
   "metadata": {},
   "outputs": [
    {
     "name": "stdout",
     "output_type": "stream",
     "text": [
      "The total missing data is 99828 while max missing data is: 1943\n",
      "Dropping rows with missing values in all columns\n",
      "Number of rows in cleaned data 997\n"
     ]
    }
   ],
   "source": [
    "# Calling the above functions.\n",
    "dfc = missing_data(dfc)"
   ]
  },
  {
   "cell_type": "code",
   "execution_count": 9,
   "metadata": {},
   "outputs": [
    {
     "name": "stdout",
     "output_type": "stream",
     "text": [
      "Deleting duplicate rows and rows with missing Label\n"
     ]
    }
   ],
   "source": [
    "dfc = clean_data(dfc)"
   ]
  },
  {
   "cell_type": "markdown",
   "metadata": {},
   "source": [
    "## Dealing with missing values. "
   ]
  },
  {
   "cell_type": "markdown",
   "metadata": {},
   "source": [
    "**Remarks:**  \n",
    "    1) Sevral columns have high percentage of NaN values.  \n",
    "    2) So they carry little information and need to be deleted.  \n",
    "    3) As in general Variance is more important than missing values,  \n",
    "       we start with deleting colums with more than 85% of missing values"
   ]
  },
  {
   "cell_type": "code",
   "execution_count": 10,
   "metadata": {},
   "outputs": [
    {
     "name": "stdout",
     "output_type": "stream",
     "text": [
      "The number of colums remaining 22\n"
     ]
    }
   ],
   "source": [
    "# Deleting columns with over 85% of missing data. \n",
    "\n",
    "def del_col(data):\n",
    "    for c in list(data.columns.values):\n",
    "        if data[c].isnull().sum() > 0.85*(data.shape[0]):\n",
    "            data = data.drop(c,axis=1)\n",
    "    print(\"The number of colums remaining\",data.shape[1])\n",
    "    return data\n",
    "    \n",
    "dfc = del_col(dfc)"
   ]
  },
  {
   "cell_type": "code",
   "execution_count": 11,
   "metadata": {},
   "outputs": [
    {
     "name": "stdout",
     "output_type": "stream",
     "text": [
      "Percentage of missing values in the present data 70.00091182638826\n"
     ]
    }
   ],
   "source": [
    "print('Percentage of missing values in the present data',\n",
    "       100*dfc.isnull().sum().sum()/(dfc.shape[0]*dfc.shape[1]))"
   ]
  },
  {
   "cell_type": "code",
   "execution_count": 12,
   "metadata": {},
   "outputs": [
    {
     "data": {
      "text/plain": [
       "<matplotlib.axes._subplots.AxesSubplot at 0x1a1110b400>"
      ]
     },
     "execution_count": 12,
     "metadata": {},
     "output_type": "execute_result"
    },
    {
     "data": {
      "image/png": "[encoded data removed]",
      "text/plain": [
       "<Figure size 1728x720 with 3 Axes>"
      ]
     },
     "metadata": {},
     "output_type": "display_data"
    }
   ],
   "source": [
    "# Plotting column wise nulity that displays data-density display\n",
    "\n",
    "# To do this we use the 'missingno' package.\n",
    "\n",
    "import matplotlib\n",
    "import missingno as msno\n",
    "%matplotlib inline\n",
    "\n",
    "msno.bar(dfc)"
   ]
  },
  {
   "cell_type": "markdown",
   "metadata": {},
   "source": [
    "- The above chart indicates that the distribution of nullity is approximately uniform.  \n",
    "- Data density is maximum for 'Label' and 'PatientID' whereas it is minimum  \n",
    "  for 'MCH' and 'MCHC'."
   ]
  },
  {
   "cell_type": "markdown",
   "metadata": {},
   "source": [
    "**Nullity correlation:**\n",
    "\n",
    "- It is also important to understand the relationship between nullity of one \n",
    "  column with another.  \n",
    "  \n",
    "- A good measure of this relationship is 'nullity correlation', which measures pairwise  \n",
    "  nullity.  \n",
    "  \n",
    "- However, pairwise relationship is limited so we instead study a 'Dendrogram'. This uses  \n",
    "  hierarchical clustering algorithm to bin variables against their nullity correlation. "
   ]
  },
  {
   "cell_type": "code",
   "execution_count": 12,
   "metadata": {},
   "outputs": [
    {
     "data": {
      "text/plain": [
       "<matplotlib.axes._subplots.AxesSubplot at 0x1a170ff940>"
      ]
     },
     "execution_count": 12,
     "metadata": {},
     "output_type": "execute_result"
    },
    {
     "data": {
      "image/png": "[encoded data removed]",
      "text/plain": [
       "<Figure size 1800x720 with 1 Axes>"
      ]
     },
     "metadata": {},
     "output_type": "display_data"
    }
   ],
   "source": [
    "msno.dendrogram(dfc)"
   ]
  },
  {
   "cell_type": "markdown",
   "metadata": {},
   "source": [
    "**Remarks**:\n",
    "- The map should be read from the top. It pairs features based on their nullity correlation.  \n",
    "- The more monotone the set of variables, the closer their distance to zero.  \n",
    "- Cluster leaves which split close to zero, predict each other very well. In our case this  \n",
    "  can be seen for instance in case of (MCH, MCHC) and (Height, Weight).  \n",
    "- It will be interesting to contrast this with correlation heat map, which would require  \n",
    "  filling-in the missig values though. We consdier this problem below. "
   ]
  },
  {
   "cell_type": "markdown",
   "metadata": {},
   "source": [
    "**Assumptions**:  \n",
    "\n",
    "- We assume here that the data is _Missing at Random_ but _not_ necessarily  \n",
    "  missing completely at random.  \n",
    "- Given that most of the data is missing, and the conditional dependence of the missing  \n",
    "  values in nullity-correlated variables, this is a fair assumption to make. "
   ]
  },
  {
   "cell_type": "code",
   "execution_count": 13,
   "metadata": {},
   "outputs": [],
   "source": [
    "# Consdiering a patient with weight 480 as an outlier, we remove that row.\n",
    "\n",
    "dfc = dfc.drop(1361) "
   ]
  },
  {
   "cell_type": "markdown",
   "metadata": {},
   "source": [
    "- To handle missing data, we use MICE - Multiple Imutation by Chained Equations.  "
   ]
  },
  {
   "cell_type": "code",
   "execution_count": 14,
   "metadata": {},
   "outputs": [
    {
     "name": "stdout",
     "output_type": "stream",
     "text": [
      "categorical features: \n",
      " ['OccultBlood', 'OneKHz', 'FourKHz']\n",
      "Unique value counts in categorical columns \n",
      "\n",
      "one     178\n",
      "zero     65\n",
      "Name: OccultBlood, dtype: int64\n",
      "one     166\n",
      "zero     93\n",
      "Name: OneKHz, dtype: int64\n",
      "one     148\n",
      "zero     95\n",
      "Name: FourKHz, dtype: int64\n"
     ]
    }
   ],
   "source": [
    "# Before we consdier imputation, which requires numerical values, \n",
    "# categorical variables needs to be addressed. \n",
    "# Find all the categorical variables so they could be analysed differetly. \n",
    "\n",
    "cols = dfc.columns\n",
    "num_cols = dfc._get_numeric_data().columns\n",
    "cat_cols = list(set(cols) - set(num_cols))\n",
    "print(\"categorical features: \\n\", cat_cols)\n",
    "\n",
    "# Print unique vlaues and their counts in categorical columns. \n",
    "print(\"Unique value counts in categorical columns \\n\")\n",
    "for c in cat_cols:\n",
    "    print(dfc[c].value_counts())"
   ]
  },
  {
   "cell_type": "code",
   "execution_count": 15,
   "metadata": {},
   "outputs": [],
   "source": [
    "# Tranfom the categorical variables in the following way:\n",
    "\n",
    "def transform_cat(df):\n",
    "    E_vals = {'one':1,'zero':0} # Values for column 'E'\n",
    "    for c in cat_cols:\n",
    "        df[c] = df[c].map(E_vals)\n",
    "    return df  \n",
    "dfc = transform_cat(dfc)"
   ]
  },
  {
   "cell_type": "code",
   "execution_count": 16,
   "metadata": {},
   "outputs": [
    {
     "data": {
      "text/html": [
       "<div>\n",
       "<style scoped>\n",
       "    .dataframe tbody tr th:only-of-type {\n",
       "        vertical-align: middle;\n",
       "    }\n",
       "\n",
       "    .dataframe tbody tr th {\n",
       "        vertical-align: top;\n",
       "    }\n",
       "\n",
       "    .dataframe thead th {\n",
       "        text-align: right;\n",
       "    }\n",
       "</style>\n",
       "<table border=\"1\" class=\"dataframe\">\n",
       "  <thead>\n",
       "    <tr style=\"text-align: right;\">\n",
       "      <th></th>\n",
       "      <th>Height</th>\n",
       "      <th>Weight</th>\n",
       "      <th>BMI</th>\n",
       "      <th>FourKHz</th>\n",
       "      <th>OneKHz</th>\n",
       "      <th>OccultBlood</th>\n",
       "      <th>RedBloodCells</th>\n",
       "      <th>Hemoglobin</th>\n",
       "      <th>Hematocrit</th>\n",
       "      <th>MCH</th>\n",
       "      <th>...</th>\n",
       "      <th>GOT</th>\n",
       "      <th>GPT</th>\n",
       "      <th>GammaGPT</th>\n",
       "      <th>creatinine</th>\n",
       "      <th>HDL</th>\n",
       "      <th>NeutralFat</th>\n",
       "      <th>LDL</th>\n",
       "      <th>UricAcid</th>\n",
       "      <th>PatientID</th>\n",
       "      <th>Label</th>\n",
       "    </tr>\n",
       "  </thead>\n",
       "  <tbody>\n",
       "    <tr>\n",
       "      <th>1</th>\n",
       "      <td>168.1</td>\n",
       "      <td>NaN</td>\n",
       "      <td>NaN</td>\n",
       "      <td>1.0</td>\n",
       "      <td>1.0</td>\n",
       "      <td>1.0</td>\n",
       "      <td>NaN</td>\n",
       "      <td>NaN</td>\n",
       "      <td>NaN</td>\n",
       "      <td>NaN</td>\n",
       "      <td>...</td>\n",
       "      <td>18.0</td>\n",
       "      <td>17.0</td>\n",
       "      <td>34.0</td>\n",
       "      <td>NaN</td>\n",
       "      <td>NaN</td>\n",
       "      <td>NaN</td>\n",
       "      <td>NaN</td>\n",
       "      <td>NaN</td>\n",
       "      <td>3956543.0</td>\n",
       "      <td>0.0</td>\n",
       "    </tr>\n",
       "    <tr>\n",
       "      <th>3</th>\n",
       "      <td>172.1</td>\n",
       "      <td>65.7</td>\n",
       "      <td>22.0</td>\n",
       "      <td>1.0</td>\n",
       "      <td>1.0</td>\n",
       "      <td>1.0</td>\n",
       "      <td>482.0</td>\n",
       "      <td>13.0</td>\n",
       "      <td>45.5</td>\n",
       "      <td>30.7</td>\n",
       "      <td>...</td>\n",
       "      <td>12.0</td>\n",
       "      <td>12.0</td>\n",
       "      <td>21.0</td>\n",
       "      <td>0.87</td>\n",
       "      <td>83.0</td>\n",
       "      <td>54.0</td>\n",
       "      <td>130.0</td>\n",
       "      <td>4.6</td>\n",
       "      <td>3964292.0</td>\n",
       "      <td>0.0</td>\n",
       "    </tr>\n",
       "    <tr>\n",
       "      <th>5</th>\n",
       "      <td>171.9</td>\n",
       "      <td>58.2</td>\n",
       "      <td>NaN</td>\n",
       "      <td>1.0</td>\n",
       "      <td>0.0</td>\n",
       "      <td>1.0</td>\n",
       "      <td>NaN</td>\n",
       "      <td>NaN</td>\n",
       "      <td>NaN</td>\n",
       "      <td>14.0</td>\n",
       "      <td>...</td>\n",
       "      <td>14.0</td>\n",
       "      <td>51.0</td>\n",
       "      <td>NaN</td>\n",
       "      <td>NaN</td>\n",
       "      <td>NaN</td>\n",
       "      <td>NaN</td>\n",
       "      <td>125.0</td>\n",
       "      <td>NaN</td>\n",
       "      <td>3965780.0</td>\n",
       "      <td>2.0</td>\n",
       "    </tr>\n",
       "    <tr>\n",
       "      <th>7</th>\n",
       "      <td>NaN</td>\n",
       "      <td>NaN</td>\n",
       "      <td>NaN</td>\n",
       "      <td>NaN</td>\n",
       "      <td>NaN</td>\n",
       "      <td>NaN</td>\n",
       "      <td>NaN</td>\n",
       "      <td>NaN</td>\n",
       "      <td>NaN</td>\n",
       "      <td>NaN</td>\n",
       "      <td>...</td>\n",
       "      <td>NaN</td>\n",
       "      <td>NaN</td>\n",
       "      <td>NaN</td>\n",
       "      <td>NaN</td>\n",
       "      <td>NaN</td>\n",
       "      <td>NaN</td>\n",
       "      <td>NaN</td>\n",
       "      <td>NaN</td>\n",
       "      <td>3965820.0</td>\n",
       "      <td>0.0</td>\n",
       "    </tr>\n",
       "    <tr>\n",
       "      <th>9</th>\n",
       "      <td>NaN</td>\n",
       "      <td>NaN</td>\n",
       "      <td>NaN</td>\n",
       "      <td>NaN</td>\n",
       "      <td>NaN</td>\n",
       "      <td>0.0</td>\n",
       "      <td>NaN</td>\n",
       "      <td>NaN</td>\n",
       "      <td>NaN</td>\n",
       "      <td>NaN</td>\n",
       "      <td>...</td>\n",
       "      <td>NaN</td>\n",
       "      <td>NaN</td>\n",
       "      <td>NaN</td>\n",
       "      <td>NaN</td>\n",
       "      <td>NaN</td>\n",
       "      <td>NaN</td>\n",
       "      <td>NaN</td>\n",
       "      <td>NaN</td>\n",
       "      <td>3965847.0</td>\n",
       "      <td>0.0</td>\n",
       "    </tr>\n",
       "  </tbody>\n",
       "</table>\n",
       "<p>5 rows × 22 columns</p>\n",
       "</div>"
      ],
      "text/plain": [
       "   Height  Weight   BMI  FourKHz  OneKHz  OccultBlood  RedBloodCells  \\\n",
       "1   168.1     NaN   NaN      1.0     1.0          1.0            NaN   \n",
       "3   172.1    65.7  22.0      1.0     1.0          1.0          482.0   \n",
       "5   171.9    58.2   NaN      1.0     0.0          1.0            NaN   \n",
       "7     NaN     NaN   NaN      NaN     NaN          NaN            NaN   \n",
       "9     NaN     NaN   NaN      NaN     NaN          0.0            NaN   \n",
       "\n",
       "   Hemoglobin  Hematocrit   MCH  ...     GOT   GPT  GammaGPT  creatinine  \\\n",
       "1         NaN         NaN   NaN  ...    18.0  17.0      34.0         NaN   \n",
       "3        13.0        45.5  30.7  ...    12.0  12.0      21.0        0.87   \n",
       "5         NaN         NaN  14.0  ...    14.0  51.0       NaN         NaN   \n",
       "7         NaN         NaN   NaN  ...     NaN   NaN       NaN         NaN   \n",
       "9         NaN         NaN   NaN  ...     NaN   NaN       NaN         NaN   \n",
       "\n",
       "    HDL  NeutralFat    LDL  UricAcid  PatientID  Label  \n",
       "1   NaN         NaN    NaN       NaN  3956543.0    0.0  \n",
       "3  83.0        54.0  130.0       4.6  3964292.0    0.0  \n",
       "5   NaN         NaN  125.0       NaN  3965780.0    2.0  \n",
       "7   NaN         NaN    NaN       NaN  3965820.0    0.0  \n",
       "9   NaN         NaN    NaN       NaN  3965847.0    0.0  \n",
       "\n",
       "[5 rows x 22 columns]"
      ]
     },
     "execution_count": 16,
     "metadata": {},
     "output_type": "execute_result"
    }
   ],
   "source": [
    "dfc.head()"
   ]
  },
  {
   "cell_type": "code",
   "execution_count": 21,
   "metadata": {},
   "outputs": [
    {
     "name": "stderr",
     "output_type": "stream",
     "text": [
      "/anaconda3/lib/python3.6/site-packages/statsmodels/imputation/mice.py:1081: FutureWarning: Using a non-tuple sequence for multidimensional indexing is deprecated; use `arr[tuple(seq)]` instead of `arr[seq]`. In the future this will be interpreted as an array index, `arr[np.array(seq)]`, which will result either in an error or a different result.\n",
      "  ix = dxi[[jj, ir]]\n",
      "/anaconda3/lib/python3.6/site-packages/statsmodels/imputation/mice.py:1082: FutureWarning: Using a non-tuple sequence for multidimensional indexing is deprecated; use `arr[tuple(seq)]` instead of `arr[seq]`. In the future this will be interpreted as an array index, `arr[np.array(seq)]`, which will result either in an error or a different result.\n",
      "  iz = ixm[[jj, ix]]\n"
     ]
    },
    {
     "data": {
      "text/html": [
       "<div>\n",
       "<style scoped>\n",
       "    .dataframe tbody tr th:only-of-type {\n",
       "        vertical-align: middle;\n",
       "    }\n",
       "\n",
       "    .dataframe tbody tr th {\n",
       "        vertical-align: top;\n",
       "    }\n",
       "\n",
       "    .dataframe thead th {\n",
       "        text-align: right;\n",
       "    }\n",
       "</style>\n",
       "<table border=\"1\" class=\"dataframe\">\n",
       "  <thead>\n",
       "    <tr style=\"text-align: right;\">\n",
       "      <th></th>\n",
       "      <th>Height</th>\n",
       "      <th>Weight</th>\n",
       "      <th>BMI</th>\n",
       "      <th>FourKHz</th>\n",
       "      <th>OneKHz</th>\n",
       "      <th>OccultBlood</th>\n",
       "      <th>RedBloodCells</th>\n",
       "      <th>Hemoglobin</th>\n",
       "      <th>Hematocrit</th>\n",
       "      <th>MCH</th>\n",
       "      <th>...</th>\n",
       "      <th>GOT</th>\n",
       "      <th>GPT</th>\n",
       "      <th>GammaGPT</th>\n",
       "      <th>creatinine</th>\n",
       "      <th>HDL</th>\n",
       "      <th>NeutralFat</th>\n",
       "      <th>LDL</th>\n",
       "      <th>UricAcid</th>\n",
       "      <th>PatientID</th>\n",
       "      <th>Label</th>\n",
       "    </tr>\n",
       "  </thead>\n",
       "  <tbody>\n",
       "    <tr>\n",
       "      <th>0</th>\n",
       "      <td>168.1</td>\n",
       "      <td>63.63</td>\n",
       "      <td>23.5</td>\n",
       "      <td>1.0</td>\n",
       "      <td>1.0</td>\n",
       "      <td>1.0</td>\n",
       "      <td>459.0</td>\n",
       "      <td>13.1</td>\n",
       "      <td>46.0</td>\n",
       "      <td>29.2</td>\n",
       "      <td>...</td>\n",
       "      <td>18.000</td>\n",
       "      <td>17.0</td>\n",
       "      <td>34.0</td>\n",
       "      <td>0.87</td>\n",
       "      <td>69.0</td>\n",
       "      <td>69.0</td>\n",
       "      <td>117.0</td>\n",
       "      <td>7.00</td>\n",
       "      <td>3956543.0</td>\n",
       "      <td>0.0</td>\n",
       "    </tr>\n",
       "    <tr>\n",
       "      <th>1</th>\n",
       "      <td>172.1</td>\n",
       "      <td>65.70</td>\n",
       "      <td>22.0</td>\n",
       "      <td>1.0</td>\n",
       "      <td>1.0</td>\n",
       "      <td>1.0</td>\n",
       "      <td>482.0</td>\n",
       "      <td>13.0</td>\n",
       "      <td>45.5</td>\n",
       "      <td>30.7</td>\n",
       "      <td>...</td>\n",
       "      <td>12.000</td>\n",
       "      <td>12.0</td>\n",
       "      <td>21.0</td>\n",
       "      <td>0.87</td>\n",
       "      <td>83.0</td>\n",
       "      <td>54.0</td>\n",
       "      <td>130.0</td>\n",
       "      <td>4.60</td>\n",
       "      <td>3964292.0</td>\n",
       "      <td>0.0</td>\n",
       "    </tr>\n",
       "    <tr>\n",
       "      <th>2</th>\n",
       "      <td>171.9</td>\n",
       "      <td>58.20</td>\n",
       "      <td>23.2</td>\n",
       "      <td>1.0</td>\n",
       "      <td>0.0</td>\n",
       "      <td>1.0</td>\n",
       "      <td>461.0</td>\n",
       "      <td>6.1</td>\n",
       "      <td>38.5</td>\n",
       "      <td>14.0</td>\n",
       "      <td>...</td>\n",
       "      <td>14.000</td>\n",
       "      <td>51.0</td>\n",
       "      <td>1.0</td>\n",
       "      <td>0.47</td>\n",
       "      <td>39.0</td>\n",
       "      <td>63.0</td>\n",
       "      <td>125.0</td>\n",
       "      <td>5.80</td>\n",
       "      <td>3965780.0</td>\n",
       "      <td>2.0</td>\n",
       "    </tr>\n",
       "    <tr>\n",
       "      <th>3</th>\n",
       "      <td>178.3</td>\n",
       "      <td>41.00</td>\n",
       "      <td>21.8</td>\n",
       "      <td>1.0</td>\n",
       "      <td>1.0</td>\n",
       "      <td>1.0</td>\n",
       "      <td>500.0</td>\n",
       "      <td>12.9</td>\n",
       "      <td>35.0</td>\n",
       "      <td>29.0</td>\n",
       "      <td>...</td>\n",
       "      <td>12.000</td>\n",
       "      <td>33.0</td>\n",
       "      <td>11.0</td>\n",
       "      <td>1.15</td>\n",
       "      <td>43.0</td>\n",
       "      <td>39.0</td>\n",
       "      <td>113.0</td>\n",
       "      <td>11.11</td>\n",
       "      <td>3965820.0</td>\n",
       "      <td>0.0</td>\n",
       "    </tr>\n",
       "    <tr>\n",
       "      <th>4</th>\n",
       "      <td>180.0</td>\n",
       "      <td>59.90</td>\n",
       "      <td>23.0</td>\n",
       "      <td>0.0</td>\n",
       "      <td>0.0</td>\n",
       "      <td>0.0</td>\n",
       "      <td>459.0</td>\n",
       "      <td>14.0</td>\n",
       "      <td>45.5</td>\n",
       "      <td>26.4</td>\n",
       "      <td>...</td>\n",
       "      <td>35.183</td>\n",
       "      <td>49.0</td>\n",
       "      <td>132.0</td>\n",
       "      <td>0.70</td>\n",
       "      <td>113.0</td>\n",
       "      <td>194.0</td>\n",
       "      <td>250.0</td>\n",
       "      <td>7.70</td>\n",
       "      <td>3965847.0</td>\n",
       "      <td>0.0</td>\n",
       "    </tr>\n",
       "  </tbody>\n",
       "</table>\n",
       "<p>5 rows × 22 columns</p>\n",
       "</div>"
      ],
      "text/plain": [
       "   Height  Weight   BMI  FourKHz  OneKHz  OccultBlood  RedBloodCells  \\\n",
       "0   168.1   63.63  23.5      1.0     1.0          1.0          459.0   \n",
       "1   172.1   65.70  22.0      1.0     1.0          1.0          482.0   \n",
       "2   171.9   58.20  23.2      1.0     0.0          1.0          461.0   \n",
       "3   178.3   41.00  21.8      1.0     1.0          1.0          500.0   \n",
       "4   180.0   59.90  23.0      0.0     0.0          0.0          459.0   \n",
       "\n",
       "   Hemoglobin  Hematocrit   MCH  ...       GOT   GPT  GammaGPT  creatinine  \\\n",
       "0        13.1        46.0  29.2  ...    18.000  17.0      34.0        0.87   \n",
       "1        13.0        45.5  30.7  ...    12.000  12.0      21.0        0.87   \n",
       "2         6.1        38.5  14.0  ...    14.000  51.0       1.0        0.47   \n",
       "3        12.9        35.0  29.0  ...    12.000  33.0      11.0        1.15   \n",
       "4        14.0        45.5  26.4  ...    35.183  49.0     132.0        0.70   \n",
       "\n",
       "     HDL  NeutralFat    LDL  UricAcid  PatientID  Label  \n",
       "0   69.0        69.0  117.0      7.00  3956543.0    0.0  \n",
       "1   83.0        54.0  130.0      4.60  3964292.0    0.0  \n",
       "2   39.0        63.0  125.0      5.80  3965780.0    2.0  \n",
       "3   43.0        39.0  113.0     11.11  3965820.0    0.0  \n",
       "4  113.0       194.0  250.0      7.70  3965847.0    0.0  \n",
       "\n",
       "[5 rows x 22 columns]"
      ]
     },
     "execution_count": 21,
     "metadata": {},
     "output_type": "execute_result"
    }
   ],
   "source": [
    "# Now that the data is numeric, imputation can be applied. \n",
    "\n",
    "# As for the number of imputations, with 70% of data missing\n",
    "# 65 iterations should be enough.  \n",
    "\n",
    "import statsmodels.imputation.mice as mic\n",
    "\n",
    "dfc_i = mic.MICEData(dfc)\n",
    "# Impute 65 times.\n",
    "dfc_i.update_all(n_iter = 65)\n",
    "dfc_i.data.head()"
   ]
  },
  {
   "cell_type": "code",
   "execution_count": 27,
   "metadata": {},
   "outputs": [],
   "source": [
    "# Hence forth, working with imputed dataset. \n",
    "dfc2 = dfc_i.data"
   ]
  },
  {
   "cell_type": "markdown",
   "metadata": {},
   "source": [
    "# 2. Analysis & Modeling."
   ]
  },
  {
   "cell_type": "code",
   "execution_count": 42,
   "metadata": {},
   "outputs": [
    {
     "data": {
      "image/png": "[encoded data removed]",
      "text/plain": [
       "<Figure size 864x864 with 2 Axes>"
      ]
     },
     "metadata": {},
     "output_type": "display_data"
    }
   ],
   "source": [
    "# Analysis of correlation in the dataset. \n",
    "import numpy as np\n",
    "import matplotlib.pyplot as plt\n",
    "import seaborn as sns\n",
    "\n",
    "# Collect the columns\n",
    "cols = list(dfc2.columns)\n",
    "\n",
    "cm = np.corrcoef(dfc2[cols].values.T)\n",
    "plt.figure(figsize=(12,12))\n",
    "sns.set(font_scale=1.0)\n",
    "hm = sns.heatmap(cm,cbar=True,annot=True,square=True,fmt='.2f',yticklabels=cols,\n",
    "                xticklabels=cols)"
   ]
  },
  {
   "cell_type": "markdown",
   "metadata": {},
   "source": [
    "- A quick glance revelas that the most correlated features are 'OneKHz' and  \n",
    "  'FourKhz'. Although, a correlation of 0.82 is not too high, we remove one  \n",
    "  of them. "
   ]
  },
  {
   "cell_type": "code",
   "execution_count": 44,
   "metadata": {},
   "outputs": [],
   "source": [
    "# Deleting 'FourKHz'\n",
    "dfc2 = dfc2.drop('FourKHz',axis=1)"
   ]
  },
  {
   "cell_type": "code",
   "execution_count": 49,
   "metadata": {},
   "outputs": [
    {
     "data": {
      "text/plain": [
       "0.0    457\n",
       "2.0    220\n",
       "3.0    178\n",
       "1.0    141\n",
       "Name: Label, dtype: int64"
      ]
     },
     "execution_count": 49,
     "metadata": {},
     "output_type": "execute_result"
    }
   ],
   "source": [
    "# Check for the need of sampling(up or down)\n",
    "\n",
    "dfc2['Label'].value_counts()"
   ]
  },
  {
   "cell_type": "markdown",
   "metadata": {},
   "source": [
    "As each class has non-negligible percentage of data, there does not seem to be a  \n",
    "need for resampling. "
   ]
  },
  {
   "cell_type": "code",
   "execution_count": 65,
   "metadata": {},
   "outputs": [],
   "source": [
    "# Split data into training and test. \n",
    "\n",
    "from sklearn.model_selection import train_test_split\n",
    "\n",
    "X = dfc2.iloc[:,0:20]\n",
    "Y = dfc2['Label']\n",
    "X_train, X_test, Y_train, Y_test = train_test_split(X,Y, test_size=0.2,\n",
    "                                                    random_state=1)"
   ]
  },
  {
   "cell_type": "code",
   "execution_count": 67,
   "metadata": {},
   "outputs": [
    {
     "name": "stderr",
     "output_type": "stream",
     "text": [
      "/anaconda3/lib/python3.6/site-packages/scipy/stats/stats.py:1713: FutureWarning: Using a non-tuple sequence for multidimensional indexing is deprecated; use `arr[tuple(seq)]` instead of `arr[seq]`. In the future this will be interpreted as an array index, `arr[np.array(seq)]`, which will result either in an error or a different result.\n",
      "  return np.add.reduce(sorted[indexer] * weights, axis=axis) / sumval\n",
      "/anaconda3/lib/python3.6/site-packages/matplotlib/axes/_axes.py:6462: UserWarning: The 'normed' kwarg is deprecated, and has been replaced by the 'density' kwarg.\n",
      "  warnings.warn(\"The 'normed' kwarg is deprecated, and has been \"\n"
     ]
    },
    {
     "data": {
      "text/plain": [
       "<matplotlib.axes._subplots.AxesSubplot at 0x1a202aa2b0>"
      ]
     },
     "execution_count": 67,
     "metadata": {},
     "output_type": "execute_result"
    },
    {
     "data": {
      "image/png": "[encoded data removed]",
      "text/plain": [
       "<Figure size 432x288 with 1 Axes>"
      ]
     },
     "metadata": {},
     "output_type": "display_data"
    }
   ],
   "source": [
    "# Consider the distribution of Label\n",
    "plt.title(\"Distribution of Label\")\n",
    "plt.xlabel(\"Label\")\n",
    "sns.distplot(Y_train)"
   ]
  },
  {
   "cell_type": "markdown",
   "metadata": {},
   "source": [
    "**Classification**:  \n",
    "- To classify the data, we start with linear SVM.  \n",
    "- This is because it optimzes the margin which in case of  \n",
    "   health data can be important for it would clearly distinguish  \n",
    "   those with a disease and those without. "
   ]
  },
  {
   "cell_type": "code",
   "execution_count": 71,
   "metadata": {},
   "outputs": [
    {
     "data": {
      "text/plain": [
       "Pipeline(memory=None,\n",
       "         steps=[('scaler',\n",
       "                 StandardScaler(copy=True, with_mean=True, with_std=True)),\n",
       "                ('linear_svc',\n",
       "                 LinearSVC(C=1, class_weight=None, dual=True,\n",
       "                           fit_intercept=True, intercept_scaling=1,\n",
       "                           loss='hinge', max_iter=20000, multi_class='ovr',\n",
       "                           penalty='l2', random_state=None, tol=0.0001,\n",
       "                           verbose=0))],\n",
       "         verbose=False)"
      ]
     },
     "execution_count": 71,
     "metadata": {},
     "output_type": "execute_result"
    }
   ],
   "source": [
    "from sklearn.pipeline import Pipeline\n",
    "from sklearn.preprocessing import StandardScaler\n",
    "from sklearn.svm import LinearSVC\n",
    "\n",
    "svm_clf = Pipeline([\n",
    "           (\"scaler\", StandardScaler()),\n",
    "           (\"linear_svc\",LinearSVC(C=1,loss=\"hinge\", max_iter=20000)),\n",
    "           ])\n",
    "svm_clf.fit(X_train,Y_train)"
   ]
  },
  {
   "cell_type": "code",
   "execution_count": 79,
   "metadata": {},
   "outputs": [
    {
     "name": "stdout",
     "output_type": "stream",
     "text": [
      "Training score 0.4648241206030151\n",
      "Test score 0.44\n"
     ]
    }
   ],
   "source": [
    "print(\"Training score\", svm_clf.score(X_train,Y_train))\n",
    "print(\"Test score\", svm_clf.score(X_test,Y_test))"
   ]
  },
  {
   "cell_type": "code",
   "execution_count": null,
   "metadata": {},
   "outputs": [],
   "source": []
  },
  {
   "cell_type": "code",
   "execution_count": 87,
   "metadata": {},
   "outputs": [
    {
     "name": "stdout",
     "output_type": "stream",
     "text": [
      "Precision for training: 0.465 \n",
      "Recall for training: 0.465\n",
      "Precision for test: 0.440 \n",
      "Recall for test: 0.440\n"
     ]
    }
   ],
   "source": [
    "# The accuracy is lower than 50%.\n",
    "# However, lets try compute other metrics\n",
    "\n",
    "from sklearn.metrics import precision_score\n",
    "from sklearn.metrics import recall_score\n",
    "from sklearn.metrics import confusion_matrix\n",
    "from sklearn.metrics import balanced_accuracy_score\n",
    "# Predict labels for training and test data. \n",
    "Y_t = svm_clf.predict(X_train)\n",
    "Y_pred = svm_clf.predict(X_test)\n",
    "\n",
    "# Compute the metrics. \n",
    "print('Precision for training: %.3f ' % precision_score(Y_train,Y_t, average='micro'))\n",
    "print('Recall for training: %.3f' %recall_score(Y_train,Y_t,average='micro'))\n",
    "print('Precision for test: %.3f ' % precision_score(Y_test,Y_pred,average='micro'))\n",
    "print('Recall for test: %.3f' %recall_score(Y_test,Y_pred,average='micro'))"
   ]
  },
  {
   "cell_type": "markdown",
   "metadata": {},
   "source": [
    "- We are getting equal Precision and Recall for training and for test data.  \n",
    "- However, the training and test are much more consistent with 'micro'  \n",
    "  than with 'macro' which does not respect class imbalances. "
   ]
  },
  {
   "cell_type": "code",
   "execution_count": 92,
   "metadata": {},
   "outputs": [
    {
     "name": "stdout",
     "output_type": "stream",
     "text": [
      "Precision for training: 0.465 \n",
      "Precision for test: 0.440 \n",
      "Recall for training: 0.465\n",
      "Recall for test: 0.440\n"
     ]
    }
   ],
   "source": [
    "# Predict labels for training and test data. \n",
    "Y_trrbf = svm_clf.predict(X_train)\n",
    "Y_tsrbf = svm_clf.predict(X_test)\n",
    "\n",
    "# Compute the metrics. \n",
    "print('Precision for training: %.3f ' % precision_score(Y_train,Y_trrbf, average='micro'))\n",
    "print('Precision for test: %.3f ' % precision_score(Y_test,Y_tsrbf,average='micro'))\n",
    "print('Recall for training: %.3f' %recall_score(Y_train,Y_trrbf,average='micro'))\n",
    "print('Recall for test: %.3f' %recall_score(Y_test,Y_tsrbf,average='micro'))"
   ]
  },
  {
   "cell_type": "code",
   "execution_count": 116,
   "metadata": {},
   "outputs": [
    {
     "name": "stdout",
     "output_type": "stream",
     "text": [
      "Training score 0.6080402010050251\n",
      "Test score 0.525\n",
      "Recall for training: 0.608\n",
      "Recall for test: 0.525\n"
     ]
    }
   ],
   "source": [
    "# The linear boundary condition of Linear SVM is too restrictive. \n",
    "# So, we try non-linear SVM methods. \n",
    "\n",
    "# Below data is modeled on SVM with a 3rd degree Polynomial kernel.\n",
    "\n",
    "svm_poly = Pipeline([\n",
    "           (\"scaler\", StandardScaler()),\n",
    "           (\"svm_clf\",SVC(kernel=\"poly\",degree=2,coef0=1,C=0.82)),\n",
    "           ])\n",
    "# Fit the dataset. \n",
    "svm_poly.fit(X_train,Y_train)\n",
    "\n",
    "Y_trpol = svm_poly.predict(X_train)\n",
    "Y_tspol = svm_poly.predict(X_test)\n",
    "\n",
    "print(\"Training score\", svm_poly.score(X_train,Y_train))\n",
    "print(\"Test score\", svm_poly.score(X_test,Y_test))\n",
    "#print('Precision for training: %.3f ' % precision_score(Y_train,Y_trpol, average='micro'))\n",
    "#print('Precision for test: %.3f ' % precision_score(Y_test,Y_tspol,average='micro'))\n",
    "print('Recall for training: %.3f' %recall_score(Y_train,Y_trpol,average='micro'))\n",
    "print('Recall for test: %.3f' %recall_score(Y_test,Y_tspol,average='micro'))"
   ]
  },
  {
   "cell_type": "markdown",
   "metadata": {},
   "source": [
    "- Note that the precision and recall scores here are equal due to 'micro'. \n",
    "\n",
    "- Although the SVM with polynomial kernel has improved performance, consdiering  \n",
    "  the possible bias in the data and the nonlinear structure, below the data  \n",
    "  is fitted with boosting techniques. "
   ]
  },
  {
   "cell_type": "code",
   "execution_count": 152,
   "metadata": {},
   "outputs": [
    {
     "name": "stdout",
     "output_type": "stream",
     "text": [
      "Recall for training: 0.791\n",
      "Recall for test: 0.495\n"
     ]
    }
   ],
   "source": [
    "# Gradient boosted trees. \n",
    "\n",
    "# The algorithm is here implemented with Staged_predict to get the right\n",
    "# number of trees. \n",
    "\n",
    "from sklearn.ensemble import GradientBoostingClassifier\n",
    "\n",
    "gbrt = GradientBoostingClassifier(max_depth=2,n_estimators=200)\n",
    "gbrt.fit(X_train,Y_train)\n",
    "\n",
    "sc = [recall_score(Y_test,Y_p,average='micro') for Y_p in gbrt.staged_predict(X_test)]\n",
    "bst = np.argmax(sc)\n",
    "\n",
    "gbrt_b = GradientBoostingClassifier(max_depth=2,n_estimators=bst)\n",
    "gbrt_b.fit(X_train,Y_train)\n",
    "\n",
    "Y_trg = gbrt_b.predict(X_train)\n",
    "Y_tsg = gbrt_b.predict(X_test)\n",
    "\n",
    "print(\"Recall for training: %.3f\" %recall_score(Y_train,Y_trg,average='micro'))\n",
    "print(\"Recall for test: %.3f\" %recall_score(Y_test,Y_tsg,average='micro'))"
   ]
  },
  {
   "cell_type": "code",
   "execution_count": 173,
   "metadata": {},
   "outputs": [],
   "source": [
    "# Feature importance in GBRT model. \n",
    "\n",
    "# Build the colums\n",
    "col = dfc2.columns\n",
    "\n",
    "# Function to calculate feature importance. \n",
    "\n",
    "def feat_imp(data):\n",
    "    feature = {} # A hash map to store name and feature\n",
    "    sc = []  # Array to store scores. \n",
    "    for name, score in zip(dfc2[col], gbrt_b.feature_importances_):\n",
    "        print(name,round(score*100,2))"
   ]
  },
  {
   "cell_type": "code",
   "execution_count": 174,
   "metadata": {},
   "outputs": [
    {
     "name": "stdout",
     "output_type": "stream",
     "text": [
      "Height 7.07\n",
      "Weight 3.98\n",
      "BMI 5.74\n",
      "OneKHz 0.14\n",
      "OccultBlood 0.14\n",
      "RedBloodCells 7.72\n",
      "Hemoglobin 7.58\n",
      "Hematocrit 7.95\n",
      "MCH 2.48\n",
      "MCHC 4.77\n",
      "platelet 3.3\n",
      "GOT 3.19\n",
      "GPT 2.7\n",
      "GammaGPT 3.07\n",
      "creatinine 4.53\n",
      "HDL 3.57\n",
      "NeutralFat 15.62\n",
      "LDL 5.4\n",
      "UricAcid 0.65\n",
      "PatientID 10.4\n"
     ]
    }
   ],
   "source": [
    "feat_imp(dfc2)"
   ]
  },
  {
   "cell_type": "markdown",
   "metadata": {},
   "source": [
    "# 3. Conclusion."
   ]
  },
  {
   "cell_type": "markdown",
   "metadata": {},
   "source": [
    "- The analysis above is heavily dependent on filling missing data with MICE.\n",
    "- In particular, we assumed Missing at Random for the missing values. \n",
    "- Moreover, many columns with very little data were removed. \n",
    "\n",
    "- The data above was modeled on Linear SVM, Nonliner SVM with Gaussian and\n",
    "  Polynomial kernel and Gradient Boosted trees. \n",
    "- Our analysis show that SVM with polynomial kernel performs the best with a\n",
    "  recall score of 0.525 with Boosted trees' score clost to it at 0.495.\n",
    "- From the Gradient boosted treest, it turns out that the most important\n",
    "  features are 'NeutralFat', 'Hmeatorcrit' and 'Hemoglobin'. "
   ]
  },
  {
   "cell_type": "code",
   "execution_count": null,
   "metadata": {},
   "outputs": [],
   "source": []
  },
  {
   "cell_type": "code",
   "execution_count": null,
   "metadata": {},
   "outputs": [],
   "source": []
  },
  {
   "cell_type": "code",
   "execution_count": null,
   "metadata": {},
   "outputs": [],
   "source": []
  },
  {
   "cell_type": "code",
   "execution_count": null,
   "metadata": {},
   "outputs": [],
   "source": []
  },
  {
   "cell_type": "code",
   "execution_count": null,
   "metadata": {},
   "outputs": [],
   "source": []
  },
  {
   "cell_type": "code",
   "execution_count": null,
   "metadata": {},
   "outputs": [],
   "source": []
  },
  {
   "cell_type": "code",
   "execution_count": null,
   "metadata": {},
   "outputs": [],
   "source": []
  },
  {
   "cell_type": "code",
   "execution_count": null,
   "metadata": {},
   "outputs": [],
   "source": []
  },
  {
   "cell_type": "code",
   "execution_count": null,
   "metadata": {},
   "outputs": [],
   "source": []
  },
  {
   "cell_type": "code",
   "execution_count": null,
   "metadata": {},
   "outputs": [],
   "source": []
  },
  {
   "cell_type": "code",
   "execution_count": null,
   "metadata": {},
   "outputs": [],
   "source": []
  },
  {
   "cell_type": "code",
   "execution_count": null,
   "metadata": {},
   "outputs": [],
   "source": []
  },
  {
   "cell_type": "code",
   "execution_count": null,
   "metadata": {},
   "outputs": [],
   "source": []
  },
  {
   "cell_type": "code",
   "execution_count": null,
   "metadata": {},
   "outputs": [],
   "source": []
  },
  {
   "cell_type": "code",
   "execution_count": null,
   "metadata": {},
   "outputs": [],
   "source": []
  },
  {
   "cell_type": "code",
   "execution_count": null,
   "metadata": {},
   "outputs": [],
   "source": []
  },
  {
   "cell_type": "code",
   "execution_count": null,
   "metadata": {},
   "outputs": [],
   "source": []
  },
  {
   "cell_type": "code",
   "execution_count": null,
   "metadata": {},
   "outputs": [],
   "source": []
  },
  {
   "cell_type": "code",
   "execution_count": 141,
   "metadata": {},
   "outputs": [
    {
     "ename": "NameError",
     "evalue": "name 'plot_importance' is not defined",
     "output_type": "error",
     "traceback": [
      "\u001b[0;31m---------------------------------------------------------------------------\u001b[0m",
      "\u001b[0;31mNameError\u001b[0m                                 Traceback (most recent call last)",
      "\u001b[0;32m<ipython-input-141-0cd9796682b8>\u001b[0m in \u001b[0;36m<module>\u001b[0;34m()\u001b[0m\n\u001b[1;32m      1\u001b[0m \u001b[0;31m# Plotting feature importance.\u001b[0m\u001b[0;34m\u001b[0m\u001b[0;34m\u001b[0m\u001b[0m\n\u001b[1;32m      2\u001b[0m \u001b[0;34m\u001b[0m\u001b[0m\n\u001b[0;32m----> 3\u001b[0;31m \u001b[0mplot_importance\u001b[0m\u001b[0;34m(\u001b[0m\u001b[0mada\u001b[0m\u001b[0;34m)\u001b[0m\u001b[0;34m\u001b[0m\u001b[0m\n\u001b[0m\u001b[1;32m      4\u001b[0m \u001b[0mpyplot\u001b[0m\u001b[0;34m.\u001b[0m\u001b[0mshow\u001b[0m\u001b[0;34m(\u001b[0m\u001b[0;34m)\u001b[0m\u001b[0;34m\u001b[0m\u001b[0m\n",
      "\u001b[0;31mNameError\u001b[0m: name 'plot_importance' is not defined"
     ]
    }
   ],
   "source": [
    "# Plotting feature importance. \n",
    "\n",
    "plot_importance(ada)\n",
    "pyplot.show()"
   ]
  },
  {
   "cell_type": "code",
   "execution_count": null,
   "metadata": {},
   "outputs": [],
   "source": []
  },
  {
   "cell_type": "code",
   "execution_count": null,
   "metadata": {},
   "outputs": [],
   "source": []
  },
  {
   "cell_type": "code",
   "execution_count": 142,
   "metadata": {},
   "outputs": [
    {
     "ename": "ModuleNotFoundError",
     "evalue": "No module named 'xgboost'",
     "output_type": "error",
     "traceback": [
      "\u001b[0;31m---------------------------------------------------------------------------\u001b[0m",
      "\u001b[0;31mModuleNotFoundError\u001b[0m                       Traceback (most recent call last)",
      "\u001b[0;32m<ipython-input-142-0384ab02f69a>\u001b[0m in \u001b[0;36m<module>\u001b[0;34m()\u001b[0m\n\u001b[0;32m----> 1\u001b[0;31m \u001b[0;32mfrom\u001b[0m \u001b[0mxgboost\u001b[0m \u001b[0;32mimport\u001b[0m \u001b[0mXGBClassifier\u001b[0m\u001b[0;34m\u001b[0m\u001b[0m\n\u001b[0m\u001b[1;32m      2\u001b[0m \u001b[0;34m\u001b[0m\u001b[0m\n\u001b[1;32m      3\u001b[0m \u001b[0mxg\u001b[0m \u001b[0;34m=\u001b[0m \u001b[0mXGBClassifier\u001b[0m\u001b[0;34m(\u001b[0m\u001b[0;34m)\u001b[0m\u001b[0;34m\u001b[0m\u001b[0m\n\u001b[1;32m      4\u001b[0m \u001b[0mxg\u001b[0m\u001b[0;34m.\u001b[0m\u001b[0mfit\u001b[0m\u001b[0;34m(\u001b[0m\u001b[0mX_train\u001b[0m\u001b[0;34m,\u001b[0m\u001b[0mY_train\u001b[0m\u001b[0;34m)\u001b[0m\u001b[0;34m\u001b[0m\u001b[0m\n\u001b[1;32m      5\u001b[0m \u001b[0;34m\u001b[0m\u001b[0m\n",
      "\u001b[0;31mModuleNotFoundError\u001b[0m: No module named 'xgboost'"
     ]
    }
   ],
   "source": [
    "from xgboost import XGBClassifier\n",
    "\n",
    "xg = XGBClassifier()\n",
    "xg.fit(X_train,Y_train)\n",
    "\n",
    "s = xg.predict(X_test)\n",
    "print()"
   ]
  },
  {
   "cell_type": "code",
   "execution_count": null,
   "metadata": {},
   "outputs": [],
   "source": []
  },
  {
   "cell_type": "code",
   "execution_count": null,
   "metadata": {},
   "outputs": [],
   "source": []
  },
  {
   "cell_type": "code",
   "execution_count": null,
   "metadata": {},
   "outputs": [],
   "source": []
  },
  {
   "cell_type": "code",
   "execution_count": null,
   "metadata": {},
   "outputs": [],
   "source": []
  },
  {
   "cell_type": "code",
   "execution_count": null,
   "metadata": {},
   "outputs": [],
   "source": []
  },
  {
   "cell_type": "code",
   "execution_count": null,
   "metadata": {},
   "outputs": [],
   "source": []
  },
  {
   "cell_type": "code",
   "execution_count": null,
   "metadata": {},
   "outputs": [],
   "source": []
  },
  {
   "cell_type": "code",
   "execution_count": null,
   "metadata": {},
   "outputs": [],
   "source": []
  },
  {
   "cell_type": "code",
   "execution_count": null,
   "metadata": {},
   "outputs": [],
   "source": []
  },
  {
   "cell_type": "code",
   "execution_count": null,
   "metadata": {},
   "outputs": [],
   "source": []
  },
  {
   "cell_type": "code",
   "execution_count": null,
   "metadata": {},
   "outputs": [],
   "source": []
  },
  {
   "cell_type": "code",
   "execution_count": null,
   "metadata": {},
   "outputs": [],
   "source": []
  },
  {
   "cell_type": "code",
   "execution_count": null,
   "metadata": {},
   "outputs": [],
   "source": []
  },
  {
   "cell_type": "code",
   "execution_count": null,
   "metadata": {},
   "outputs": [],
   "source": []
  },
  {
   "cell_type": "code",
   "execution_count": null,
   "metadata": {},
   "outputs": [],
   "source": []
  },
  {
   "cell_type": "code",
   "execution_count": null,
   "metadata": {},
   "outputs": [],
   "source": []
  },
  {
   "cell_type": "code",
   "execution_count": null,
   "metadata": {},
   "outputs": [],
   "source": []
  },
  {
   "cell_type": "code",
   "execution_count": null,
   "metadata": {},
   "outputs": [],
   "source": []
  },
  {
   "cell_type": "code",
   "execution_count": null,
   "metadata": {},
   "outputs": [],
   "source": []
  },
  {
   "cell_type": "code",
   "execution_count": null,
   "metadata": {},
   "outputs": [],
   "source": []
  },
  {
   "cell_type": "code",
   "execution_count": null,
   "metadata": {},
   "outputs": [],
   "source": []
  },
  {
   "cell_type": "code",
   "execution_count": null,
   "metadata": {},
   "outputs": [],
   "source": []
  },
  {
   "cell_type": "code",
   "execution_count": null,
   "metadata": {},
   "outputs": [],
   "source": []
  },
  {
   "cell_type": "code",
   "execution_count": null,
   "metadata": {},
   "outputs": [],
   "source": []
  },
  {
   "cell_type": "code",
   "execution_count": null,
   "metadata": {},
   "outputs": [],
   "source": []
  },
  {
   "cell_type": "code",
   "execution_count": null,
   "metadata": {},
   "outputs": [],
   "source": []
  },
  {
   "cell_type": "code",
   "execution_count": null,
   "metadata": {},
   "outputs": [],
   "source": []
  },
  {
   "cell_type": "code",
   "execution_count": null,
   "metadata": {},
   "outputs": [],
   "source": []
  },
  {
   "cell_type": "code",
   "execution_count": null,
   "metadata": {},
   "outputs": [],
   "source": []
  },
  {
   "cell_type": "code",
   "execution_count": null,
   "metadata": {},
   "outputs": [],
   "source": []
  },
  {
   "cell_type": "code",
   "execution_count": null,
   "metadata": {},
   "outputs": [],
   "source": []
  },
  {
   "cell_type": "code",
   "execution_count": null,
   "metadata": {},
   "outputs": [],
   "source": []
  },
  {
   "cell_type": "code",
   "execution_count": null,
   "metadata": {},
   "outputs": [],
   "source": []
  },
  {
   "cell_type": "code",
   "execution_count": null,
   "metadata": {},
   "outputs": [],
   "source": []
  },
  {
   "cell_type": "code",
   "execution_count": null,
   "metadata": {},
   "outputs": [],
   "source": []
  },
  {
   "cell_type": "code",
   "execution_count": null,
   "metadata": {},
   "outputs": [],
   "source": []
  },
  {
   "cell_type": "code",
   "execution_count": null,
   "metadata": {},
   "outputs": [],
   "source": []
  },
  {
   "cell_type": "code",
   "execution_count": null,
   "metadata": {},
   "outputs": [],
   "source": []
  },
  {
   "cell_type": "code",
   "execution_count": null,
   "metadata": {},
   "outputs": [],
   "source": []
  },
  {
   "cell_type": "code",
   "execution_count": null,
   "metadata": {},
   "outputs": [],
   "source": []
  },
  {
   "cell_type": "code",
   "execution_count": null,
   "metadata": {},
   "outputs": [],
   "source": []
  },
  {
   "cell_type": "code",
   "execution_count": null,
   "metadata": {},
   "outputs": [],
   "source": []
  },
  {
   "cell_type": "code",
   "execution_count": null,
   "metadata": {},
   "outputs": [],
   "source": []
  },
  {
   "cell_type": "code",
   "execution_count": null,
   "metadata": {},
   "outputs": [],
   "source": []
  },
  {
   "cell_type": "code",
   "execution_count": null,
   "metadata": {},
   "outputs": [],
   "source": []
  },
  {
   "cell_type": "code",
   "execution_count": null,
   "metadata": {},
   "outputs": [],
   "source": []
  },
  {
   "cell_type": "code",
   "execution_count": null,
   "metadata": {},
   "outputs": [],
   "source": []
  },
  {
   "cell_type": "code",
   "execution_count": null,
   "metadata": {},
   "outputs": [],
   "source": []
  },
  {
   "cell_type": "code",
   "execution_count": null,
   "metadata": {},
   "outputs": [],
   "source": []
  },
  {
   "cell_type": "code",
   "execution_count": null,
   "metadata": {},
   "outputs": [],
   "source": []
  },
  {
   "cell_type": "code",
   "execution_count": null,
   "metadata": {},
   "outputs": [],
   "source": []
  },
  {
   "cell_type": "code",
   "execution_count": null,
   "metadata": {},
   "outputs": [],
   "source": []
  },
  {
   "cell_type": "code",
   "execution_count": null,
   "metadata": {},
   "outputs": [],
   "source": []
  },
  {
   "cell_type": "code",
   "execution_count": null,
   "metadata": {},
   "outputs": [],
   "source": []
  },
  {
   "cell_type": "code",
   "execution_count": null,
   "metadata": {},
   "outputs": [],
   "source": []
  },
  {
   "cell_type": "code",
   "execution_count": null,
   "metadata": {},
   "outputs": [],
   "source": []
  },
  {
   "cell_type": "code",
   "execution_count": null,
   "metadata": {},
   "outputs": [],
   "source": []
  },
  {
   "cell_type": "code",
   "execution_count": null,
   "metadata": {},
   "outputs": [],
   "source": []
  },
  {
   "cell_type": "code",
   "execution_count": null,
   "metadata": {},
   "outputs": [],
   "source": []
  },
  {
   "cell_type": "code",
   "execution_count": null,
   "metadata": {},
   "outputs": [],
   "source": []
  },
  {
   "cell_type": "code",
   "execution_count": null,
   "metadata": {},
   "outputs": [],
   "source": []
  },
  {
   "cell_type": "code",
   "execution_count": null,
   "metadata": {},
   "outputs": [],
   "source": []
  },
  {
   "cell_type": "code",
   "execution_count": null,
   "metadata": {},
   "outputs": [],
   "source": []
  },
  {
   "cell_type": "code",
   "execution_count": null,
   "metadata": {},
   "outputs": [],
   "source": []
  },
  {
   "cell_type": "code",
   "execution_count": null,
   "metadata": {},
   "outputs": [],
   "source": []
  },
  {
   "cell_type": "code",
   "execution_count": null,
   "metadata": {},
   "outputs": [],
   "source": []
  },
  {
   "cell_type": "code",
   "execution_count": null,
   "metadata": {},
   "outputs": [],
   "source": []
  },
  {
   "cell_type": "code",
   "execution_count": null,
   "metadata": {},
   "outputs": [],
   "source": []
  },
  {
   "cell_type": "code",
   "execution_count": null,
   "metadata": {},
   "outputs": [],
   "source": []
  },
  {
   "cell_type": "code",
   "execution_count": null,
   "metadata": {},
   "outputs": [],
   "source": []
  },
  {
   "cell_type": "code",
   "execution_count": null,
   "metadata": {},
   "outputs": [],
   "source": []
  },
  {
   "cell_type": "code",
   "execution_count": null,
   "metadata": {},
   "outputs": [],
   "source": []
  },
  {
   "cell_type": "code",
   "execution_count": null,
   "metadata": {},
   "outputs": [],
   "source": []
  }
 ],
 "metadata": {
  "kernelspec": {
   "display_name": "Python 3",
   "language": "python",
   "name": "python3"
  },
  "language_info": {
   "codemirror_mode": {
    "name": "ipython",
    "version": 3
   },
   "file_extension": ".py",
   "mimetype": "text/x-python",
   "name": "python",
   "nbconvert_exporter": "python",
   "pygments_lexer": "ipython3",
   "version": "3.6.5"
  }
 },
 "nbformat": 4,
 "nbformat_minor": 2
}
