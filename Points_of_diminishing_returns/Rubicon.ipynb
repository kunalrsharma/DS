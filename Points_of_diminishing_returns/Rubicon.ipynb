{
 "cells": [
 
  {
   "cell_type": "code",
   "execution_count": 3,
   "metadata": {},
   "outputs": [],
   "source": [
    "import pandas as pd\n",
    "import numpy as np\n",
    "import matplotlib.pyplot as plt\n",
    "import seaborn as sns\n",
    "\n",
    "df = pd.read_excel('Data.xlsx')"
   ]
  },
  {
   "cell_type": "code",
   "execution_count": 4,
   "metadata": {},
   "outputs": [
    {
     "data": {
      "text/html": [
       "<div>\n",
       "<style scoped>\n",
       "    .dataframe tbody tr th:only-of-type {\n",
       "        vertical-align: middle;\n",
       "    }\n",
       "\n",
       "    .dataframe tbody tr th {\n",
       "        vertical-align: top;\n",
       "    }\n",
       "\n",
       "    .dataframe thead th {\n",
       "        text-align: right;\n",
       "    }\n",
       "</style>\n",
       "<table border=\"1\" class=\"dataframe\">\n",
       "  <thead>\n",
       "    <tr style=\"text-align: right;\">\n",
       "      <th></th>\n",
       "      <th>Key</th>\n",
       "      <th>x</th>\n",
       "      <th>y</th>\n",
       "    </tr>\n",
       "  </thead>\n",
       "  <tbody>\n",
       "    <tr>\n",
       "      <th>count</th>\n",
       "      <td>1.616810e+05</td>\n",
       "      <td>161681.000000</td>\n",
       "      <td>161681.000000</td>\n",
       "    </tr>\n",
       "    <tr>\n",
       "      <th>mean</th>\n",
       "      <td>2.129456e+16</td>\n",
       "      <td>9.195092</td>\n",
       "      <td>24.270372</td>\n",
       "    </tr>\n",
       "    <tr>\n",
       "      <th>std</th>\n",
       "      <td>1.484469e+16</td>\n",
       "      <td>18.646770</td>\n",
       "      <td>352.344562</td>\n",
       "    </tr>\n",
       "    <tr>\n",
       "      <th>min</th>\n",
       "      <td>8.235329e+13</td>\n",
       "      <td>0.010000</td>\n",
       "      <td>0.000000</td>\n",
       "    </tr>\n",
       "    <tr>\n",
       "      <th>25%</th>\n",
       "      <td>3.325879e+15</td>\n",
       "      <td>1.890000</td>\n",
       "      <td>0.000000</td>\n",
       "    </tr>\n",
       "    <tr>\n",
       "      <th>50%</th>\n",
       "      <td>3.236335e+16</td>\n",
       "      <td>4.300000</td>\n",
       "      <td>1.000000</td>\n",
       "    </tr>\n",
       "    <tr>\n",
       "      <th>75%</th>\n",
       "      <td>3.336638e+16</td>\n",
       "      <td>9.600000</td>\n",
       "      <td>4.000000</td>\n",
       "    </tr>\n",
       "    <tr>\n",
       "      <th>max</th>\n",
       "      <td>3.726236e+16</td>\n",
       "      <td>1034.390000</td>\n",
       "      <td>46531.000000</td>\n",
       "    </tr>\n",
       "  </tbody>\n",
       "</table>\n",
       "</div>"
      ],
      "text/plain": [
       "                Key              x              y\n",
       "count  1.616810e+05  161681.000000  161681.000000\n",
       "mean   2.129456e+16       9.195092      24.270372\n",
       "std    1.484469e+16      18.646770     352.344562\n",
       "min    8.235329e+13       0.010000       0.000000\n",
       "25%    3.325879e+15       1.890000       0.000000\n",
       "50%    3.236335e+16       4.300000       1.000000\n",
       "75%    3.336638e+16       9.600000       4.000000\n",
       "max    3.726236e+16    1034.390000   46531.000000"
      ]
     },
     "execution_count": 4,
     "metadata": {},
     "output_type": "execute_result"
    }
   ],
   "source": [
    "df.describe()"
   ]
  },
  {
   "cell_type": "code",
   "execution_count": 5,
   "metadata": {},
   "outputs": [],
   "source": [
    "# Get the unique keys and then build data frames correspondng to the keys. \n",
    "\n",
    "# Make a copy of the dataframe\n",
    "dfc = df.copy()\n",
    "\n",
    "# Get the keys \n",
    "keys = dfc['Key'].unique()"
   ]
  },
  {
   "cell_type": "code",
   "execution_count": 7,
   "metadata": {},
   "outputs": [
    {
     "name": "stdout",
     "output_type": "stream",
     "text": [
      "The number of unique keys is:  173\n"
     ]
    }
   ],
   "source": [
    "# Number of unique keys, hence the number of different data sets. \n",
    "\n",
    "print(\"The number of unique keys is: \", len(keys))"
   ]
  },
  {
   "cell_type": "code",
   "execution_count": 8,
   "metadata": {},
   "outputs": [],
   "source": [
    "# Build data frames correspondign to these keys\n",
    "\n",
    "def builddf(data):\n",
    "    key_data = {} # Build a dictionary\n",
    "    for i,k in enumerate(keys):\n",
    "        key_data[k] = data[data['Key']==k] # Datafrmae corresponding to the key. \n",
    "    return key_data"
   ]
  },
  {
   "cell_type": "code",
   "execution_count": 9,
   "metadata": {},
   "outputs": [],
   "source": [
    "# Calling the function.\n",
    "dfs = builddf(dfc)"
   ]
  },
  {
   "cell_type": "markdown",
   "metadata": {},
   "source": [
    "\n",
    "Below we work with a data set correspinding to a specific key and  \n",
    "build a model to find the point of diminishing returns for it.  \n",
    "\n",
    "The model will then be extended to other data sets if it gives expected results. "
   ]
  },
  {
   "cell_type": "code",
   "execution_count": 10,
   "metadata": {},
   "outputs": [],
   "source": [
    "# Convert keys to a list in python from Numpy array. \n",
    "\n",
    "keys = keys.tolist()"
   ]
  },
  {
   "cell_type": "code",
   "execution_count": 11,
   "metadata": {},
   "outputs": [
    {
     "name": "stdout",
     "output_type": "stream",
     "text": [
      "Size of the data set: Rows = 2350 and columns = 3\n"
     ]
    }
   ],
   "source": [
    "# Take an example dataset and find point of diminishing returns for that dataset. \n",
    "\n",
    "dfe = dfs[keys[100]]\n",
    "\n",
    "# Make sure the dataset is not too small so the model could be extended. \n",
    "\n",
    "print(\"Size of the data set: Rows = {} and columns = {}\".format(dfe.shape[0],dfe.shape[1]))"
   ]
  },
  {
   "cell_type": "markdown",
   "metadata": {},
   "source": [
    "  \n",
    "    As the number of rows is large enough, this is a good data set to work with  \n",
    "    and we procedd with the analysis. "
   ]
  },
  {
   "cell_type": "code",
   "execution_count": 14,
   "metadata": {},
   "outputs": [
    {
     "data": {
      "text/plain": [
       "[<matplotlib.lines.Line2D at 0x1a12e03b38>]"
      ]
     },
     "execution_count": 14,
     "metadata": {},
     "output_type": "execute_result"
    },
    {
     "data": {
      "image/png": "[encoded data removed]",
      "text/plain": [
       "<Figure size 432x288 with 1 Axes>"
      ]
     },
     "metadata": {},
     "output_type": "display_data"
    }
   ],
   "source": [
    "# Plot of x-y values. \n",
    "\n",
    "import matplotlib.pyplot as plt\n",
    "import seaborn as sns\n",
    "\n",
    "# As we are trying to find point of diminising returns, most of the data\n",
    "# will be concentrated on lower values of x. \n",
    "\n",
    "plt.xlim(0,50) # Restricting x-vlaues for the above reason. \n",
    "plt.ylim(0,100) # Restricting y-values as standard deviation is small. \n",
    "plt.title('Plot of X-Y values')\n",
    "plt.xlabel('x')\n",
    "plt.ylabel('y')\n",
    "plt.plot(dfe['x'],dfe['y'])"
   ]
  },
  {
   "cell_type": "markdown",
   "metadata": {},
   "source": [
    "Remarks:  \n",
    "    \n",
    "    1) As expected the data shows a decreasing pattern.\n",
    "    \n",
    "    2) Due to lot of variation in the data, its necessary to take the noise into account. "
   ]
  },
  {
   "cell_type": "code",
   "execution_count": 15,
   "metadata": {},
   "outputs": [
    {
     "data": {
      "text/html": [
       "<div>\n",
       "<style scoped>\n",
       "    .dataframe tbody tr th:only-of-type {\n",
       "        vertical-align: middle;\n",
       "    }\n",
       "\n",
       "    .dataframe tbody tr th {\n",
       "        vertical-align: top;\n",
       "    }\n",
       "\n",
       "    .dataframe thead th {\n",
       "        text-align: right;\n",
       "    }\n",
       "</style>\n",
       "<table border=\"1\" class=\"dataframe\">\n",
       "  <thead>\n",
       "    <tr style=\"text-align: right;\">\n",
       "      <th></th>\n",
       "      <th>Key</th>\n",
       "      <th>x</th>\n",
       "      <th>y</th>\n",
       "    </tr>\n",
       "  </thead>\n",
       "  <tbody>\n",
       "    <tr>\n",
       "      <th>count</th>\n",
       "      <td>2.350000e+03</td>\n",
       "      <td>2350.000000</td>\n",
       "      <td>2350.000000</td>\n",
       "    </tr>\n",
       "    <tr>\n",
       "      <th>mean</th>\n",
       "      <td>3.325879e+15</td>\n",
       "      <td>23.800711</td>\n",
       "      <td>26.231064</td>\n",
       "    </tr>\n",
       "    <tr>\n",
       "      <th>std</th>\n",
       "      <td>1.200255e+02</td>\n",
       "      <td>41.805899</td>\n",
       "      <td>142.618264</td>\n",
       "    </tr>\n",
       "    <tr>\n",
       "      <th>min</th>\n",
       "      <td>3.325879e+15</td>\n",
       "      <td>0.350000</td>\n",
       "      <td>0.000000</td>\n",
       "    </tr>\n",
       "    <tr>\n",
       "      <th>25%</th>\n",
       "      <td>3.325879e+15</td>\n",
       "      <td>6.222500</td>\n",
       "      <td>0.000000</td>\n",
       "    </tr>\n",
       "    <tr>\n",
       "      <th>50%</th>\n",
       "      <td>3.325879e+15</td>\n",
       "      <td>12.325000</td>\n",
       "      <td>1.000000</td>\n",
       "    </tr>\n",
       "    <tr>\n",
       "      <th>75%</th>\n",
       "      <td>3.325879e+15</td>\n",
       "      <td>23.122500</td>\n",
       "      <td>4.000000</td>\n",
       "    </tr>\n",
       "    <tr>\n",
       "      <th>max</th>\n",
       "      <td>3.325879e+15</td>\n",
       "      <td>620.640000</td>\n",
       "      <td>4017.000000</td>\n",
       "    </tr>\n",
       "  </tbody>\n",
       "</table>\n",
       "</div>"
      ],
      "text/plain": [
       "                Key            x            y\n",
       "count  2.350000e+03  2350.000000  2350.000000\n",
       "mean   3.325879e+15    23.800711    26.231064\n",
       "std    1.200255e+02    41.805899   142.618264\n",
       "min    3.325879e+15     0.350000     0.000000\n",
       "25%    3.325879e+15     6.222500     0.000000\n",
       "50%    3.325879e+15    12.325000     1.000000\n",
       "75%    3.325879e+15    23.122500     4.000000\n",
       "max    3.325879e+15   620.640000  4017.000000"
      ]
     },
     "execution_count": 15,
     "metadata": {},
     "output_type": "execute_result"
    }
   ],
   "source": [
    "dfe.describe()"
   ]
  },
  {
   "cell_type": "markdown",
   "metadata": {},
   "source": [
    "# Finding the point of diminishing returns. "
   ]
  },
  {
   "cell_type": "code",
   "execution_count": null,
   "metadata": {},
   "outputs": [],
   "source": [
    "Approach: \n",
    "    \n",
    "    To find the point of diminishing returns, we need to find the change in sign of  \n",
    "second derivative of y.  "
   ]
  },
  {
   "cell_type": "code",
   "execution_count": 20,
   "metadata": {},
   "outputs": [
    {
     "name": "stderr",
     "output_type": "stream",
     "text": [
      "/anaconda3/lib/python3.6/site-packages/ipykernel_launcher.py:9: SettingWithCopyWarning: \n",
      "A value is trying to be set on a copy of a slice from a DataFrame.\n",
      "Try using .loc[row_indexer,col_indexer] = value instead\n",
      "\n",
      "See the caveats in the documentation: http://pandas.pydata.org/pandas-docs/stable/indexing.html#indexing-view-versus-copy\n",
      "  if __name__ == '__main__':\n",
      "/anaconda3/lib/python3.6/site-packages/ipykernel_launcher.py:11: SettingWithCopyWarning: \n",
      "A value is trying to be set on a copy of a slice from a DataFrame.\n",
      "Try using .loc[row_indexer,col_indexer] = value instead\n",
      "\n",
      "See the caveats in the documentation: http://pandas.pydata.org/pandas-docs/stable/indexing.html#indexing-view-versus-copy\n",
      "  # This is added back by InteractiveShellApp.init_path()\n"
     ]
    }
   ],
   "source": [
    "# To take the derivative of y with respect to x, we  \n",
    "# set the differential in x to '0.01' which is constant  \n",
    "# through out the data set. \n",
    "\n",
    "dx = 0.01  \n",
    "\n",
    "#Using numpy's 'gradient' to find the finite-difference (derivative). \n",
    "y_1 = np.gradient(dfe['y'],dx) # first derivative. \n",
    "dfe['y_1'] = y_1\n",
    "y_2 = np.gradient(dfe['y_1'],dx)# second derivative.\n",
    "dfe['y_2'] = y_2"
   ]
  },
  {
   "cell_type": "code",
   "execution_count": 34,
   "metadata": {},
   "outputs": [
    {
     "data": {
      "text/plain": [
       "[<matplotlib.lines.Line2D at 0x1a137a8518>]"
      ]
     },
     "execution_count": 34,
     "metadata": {},
     "output_type": "execute_result"
    },
    {
     "data": {
      "image/png": "[encoded data removed]",
      "text/plain": [
       "<Figure size 432x288 with 1 Axes>"
      ]
     },
     "metadata": {},
     "output_type": "display_data"
    }
   ],
   "source": [
    "# Plot of second derivative of y. \n",
    "\n",
    "plt.title(\"Second derivative of y\")\n",
    "plt.xlim(0,10) # Adjusted the range of x. \n",
    "plt.xlabel('x')\n",
    "plt.ylabel('y\" ')\n",
    "plt.plot(dfe['x'],dfe['y_2'])"
   ]
  },
  {
   "cell_type": "markdown",
   "metadata": {},
   "source": [
    "As can be observed, there is a lot of variation in the data.  \n",
    "So there is a need to smoothen the data.  \n",
    "For this we use 'Savitzky-Golay' filter."
   ]
  },
  {
   "cell_type": "code",
   "execution_count": 35,
   "metadata": {},
   "outputs": [],
   "source": [
    "from scipy.signal import savgol_filter\n",
    "\n",
    "def savgol(data):\n",
    "    '''Apply the filter with window size 51 and polynomial degree 1. ''' \n",
    "    # We smoothen the data three time whcih in our analysis makes  \n",
    "    # the data sufficently smooth. \n",
    "    # Results of the data are stored in 'ys'\n",
    "    data['ys1']= savgol_filter(data['y'].values, 51, 1)\n",
    "    data['ys2']= savgol_filter(data['ys1'].values, 51, 1)\n",
    "    data['ys3']= savgol_filter(data['ys2'].values, 51, 1)"
   ]
  },
  {
   "cell_type": "code",
   "execution_count": 36,
   "metadata": {},
   "outputs": [
    {
     "name": "stderr",
     "output_type": "stream",
     "text": [
      "/anaconda3/lib/python3.6/site-packages/ipykernel_launcher.py:8: SettingWithCopyWarning: \n",
      "A value is trying to be set on a copy of a slice from a DataFrame.\n",
      "Try using .loc[row_indexer,col_indexer] = value instead\n",
      "\n",
      "See the caveats in the documentation: http://pandas.pydata.org/pandas-docs/stable/indexing.html#indexing-view-versus-copy\n",
      "  \n",
      "/anaconda3/lib/python3.6/site-packages/ipykernel_launcher.py:9: SettingWithCopyWarning: \n",
      "A value is trying to be set on a copy of a slice from a DataFrame.\n",
      "Try using .loc[row_indexer,col_indexer] = value instead\n",
      "\n",
      "See the caveats in the documentation: http://pandas.pydata.org/pandas-docs/stable/indexing.html#indexing-view-versus-copy\n",
      "  if __name__ == '__main__':\n",
      "/anaconda3/lib/python3.6/site-packages/ipykernel_launcher.py:10: SettingWithCopyWarning: \n",
      "A value is trying to be set on a copy of a slice from a DataFrame.\n",
      "Try using .loc[row_indexer,col_indexer] = value instead\n",
      "\n",
      "See the caveats in the documentation: http://pandas.pydata.org/pandas-docs/stable/indexing.html#indexing-view-versus-copy\n",
      "  # Remove the CWD from sys.path while we load stuff.\n"
     ]
    }
   ],
   "source": [
    "# Running the data.\n",
    "savgol(dfe)"
   ]
  },
  {
   "cell_type": "code",
   "execution_count": 37,
   "metadata": {},
   "outputs": [
    {
     "data": {
      "text/html": [
       "<div>\n",
       "<style scoped>\n",
       "    .dataframe tbody tr th:only-of-type {\n",
       "        vertical-align: middle;\n",
       "    }\n",
       "\n",
       "    .dataframe tbody tr th {\n",
       "        vertical-align: top;\n",
       "    }\n",
       "\n",
       "    .dataframe thead th {\n",
       "        text-align: right;\n",
       "    }\n",
       "</style>\n",
       "<table border=\"1\" class=\"dataframe\">\n",
       "  <thead>\n",
       "    <tr style=\"text-align: right;\">\n",
       "      <th></th>\n",
       "      <th>Key</th>\n",
       "      <th>x</th>\n",
       "      <th>y</th>\n",
       "      <th>y_1</th>\n",
       "      <th>y_2</th>\n",
       "      <th>ys1</th>\n",
       "      <th>ys2</th>\n",
       "      <th>ys3</th>\n",
       "    </tr>\n",
       "  </thead>\n",
       "  <tbody>\n",
       "    <tr>\n",
       "      <th>18221</th>\n",
       "      <td>3325878942659180</td>\n",
       "      <td>0.35</td>\n",
       "      <td>4017</td>\n",
       "      <td>-276700.0</td>\n",
       "      <td>14780000.0</td>\n",
       "      <td>1337.999246</td>\n",
       "      <td>1294.334746</td>\n",
       "      <td>1273.068743</td>\n",
       "    </tr>\n",
       "    <tr>\n",
       "      <th>18222</th>\n",
       "      <td>3325878942659180</td>\n",
       "      <td>0.36</td>\n",
       "      <td>1250</td>\n",
       "      <td>-128900.0</td>\n",
       "      <td>13540000.0</td>\n",
       "      <td>1314.781237</td>\n",
       "      <td>1273.939910</td>\n",
       "      <td>1254.244770</td>\n",
       "    </tr>\n",
       "    <tr>\n",
       "      <th>18223</th>\n",
       "      <td>3325878942659180</td>\n",
       "      <td>0.37</td>\n",
       "      <td>1439</td>\n",
       "      <td>-5900.0</td>\n",
       "      <td>5257500.0</td>\n",
       "      <td>1291.563228</td>\n",
       "      <td>1253.545075</td>\n",
       "      <td>1235.420797</td>\n",
       "    </tr>\n",
       "    <tr>\n",
       "      <th>18224</th>\n",
       "      <td>3325878942659180</td>\n",
       "      <td>0.38</td>\n",
       "      <td>1132</td>\n",
       "      <td>-23750.0</td>\n",
       "      <td>-337500.0</td>\n",
       "      <td>1268.345219</td>\n",
       "      <td>1233.150239</td>\n",
       "      <td>1216.596824</td>\n",
       "    </tr>\n",
       "    <tr>\n",
       "      <th>18225</th>\n",
       "      <td>3325878942659180</td>\n",
       "      <td>0.39</td>\n",
       "      <td>964</td>\n",
       "      <td>-12650.0</td>\n",
       "      <td>1117500.0</td>\n",
       "      <td>1245.127210</td>\n",
       "      <td>1212.755404</td>\n",
       "      <td>1197.772850</td>\n",
       "    </tr>\n",
       "  </tbody>\n",
       "</table>\n",
       "</div>"
      ],
      "text/plain": [
       "                    Key     x     y       y_1         y_2          ys1  \\\n",
       "18221  3325878942659180  0.35  4017 -276700.0  14780000.0  1337.999246   \n",
       "18222  3325878942659180  0.36  1250 -128900.0  13540000.0  1314.781237   \n",
       "18223  3325878942659180  0.37  1439   -5900.0   5257500.0  1291.563228   \n",
       "18224  3325878942659180  0.38  1132  -23750.0   -337500.0  1268.345219   \n",
       "18225  3325878942659180  0.39   964  -12650.0   1117500.0  1245.127210   \n",
       "\n",
       "               ys2          ys3  \n",
       "18221  1294.334746  1273.068743  \n",
       "18222  1273.939910  1254.244770  \n",
       "18223  1253.545075  1235.420797  \n",
       "18224  1233.150239  1216.596824  \n",
       "18225  1212.755404  1197.772850  "
      ]
     },
     "execution_count": 37,
     "metadata": {},
     "output_type": "execute_result"
    }
   ],
   "source": [
    "dfe.head()"
   ]
  },
  {
   "cell_type": "code",
   "execution_count": 38,
   "metadata": {},
   "outputs": [
    {
     "data": {
      "text/plain": [
       "[<matplotlib.lines.Line2D at 0x1a13b9f320>]"
      ]
     },
     "execution_count": 38,
     "metadata": {},
     "output_type": "execute_result"
    },
    {
     "data": {
      "image/png": "[encoded data removed]",
      "text/plain": [
       "<Figure size 432x288 with 1 Axes>"
      ]
     },
     "metadata": {},
     "output_type": "display_data"
    }
   ],
   "source": [
    "# Plot of data after smoothing. \n",
    "\n",
    "plt.title(\"Y values after smoothing with Savgol\")\n",
    "plt.xlim(0,40)\n",
    "plt.ylim(0,100)\n",
    "plt.ylabel(\"ys3\")\n",
    "plt.xlabel(\"x\")\n",
    "plt.plot(dfe['x'],dfe['ys3'])"
   ]
  },
  {
   "cell_type": "markdown",
   "metadata": {},
   "source": [
    "Note:  \n",
    "As can be noticed, after applying the filter three times, the data  \n",
    "the data is now sufficently smooth to carry out the analysis. "
   ]
  },
  {
   "cell_type": "code",
   "execution_count": 40,
   "metadata": {},
   "outputs": [],
   "source": [
    "# Now finding the point of diminishing returns. \n",
    "# For that firstly we compute the derivatives. \n",
    "\n",
    "\n",
    "def podr(data):\n",
    "    \n",
    "    # Calculate the derivatives first.\n",
    "    dx = 0.01 # Set the differntial in x. \n",
    "    first = np.gradient(data['ys3'],dx)\n",
    "    data['first'] = first\n",
    "    second = np.gradient(data['first'],dx)\n",
    "    data['second'] = second\n",
    "    \n",
    "    # Calculate the point of diminishing returns. \n",
    "    inf = []\n",
    "    ps = 0\n",
    "    std_unb = data['second'].std()/np.sqrt(data.shape[0])  # Calculate unbiased standard deviation.\n",
    "    cut_off = int(0.5*std_unb)  # Take half of it as cutoff. \n",
    "    for i in range(data.shape[0]):\n",
    "        if ((data['second'].iloc[-i] < 0)== False) and (data['second'].iloc[-i] > cut_off):\n",
    "            inf.append((data.iloc[-1-i,1],data.iloc[-1-i,2])) # Add (x,y) values. \n",
    "    # Return the first point where the \"If\" condition above is satisfied.\n",
    "    if len(inf) == 0:\n",
    "        return -1\n",
    "    else:\n",
    "        return inf[0]"
   ]
  },
  {
   "cell_type": "code",
   "execution_count": 42,
   "metadata": {},
   "outputs": [
    {
     "name": "stdout",
     "output_type": "stream",
     "text": [
      "(x,y) point of diminishing return: \n",
      " (9.1, 1)\n"
     ]
    },
    {
     "name": "stderr",
     "output_type": "stream",
     "text": [
      "/anaconda3/lib/python3.6/site-packages/ipykernel_launcher.py:10: SettingWithCopyWarning: \n",
      "A value is trying to be set on a copy of a slice from a DataFrame.\n",
      "Try using .loc[row_indexer,col_indexer] = value instead\n",
      "\n",
      "See the caveats in the documentation: http://pandas.pydata.org/pandas-docs/stable/indexing.html#indexing-view-versus-copy\n",
      "  # Remove the CWD from sys.path while we load stuff.\n",
      "/anaconda3/lib/python3.6/site-packages/ipykernel_launcher.py:12: SettingWithCopyWarning: \n",
      "A value is trying to be set on a copy of a slice from a DataFrame.\n",
      "Try using .loc[row_indexer,col_indexer] = value instead\n",
      "\n",
      "See the caveats in the documentation: http://pandas.pydata.org/pandas-docs/stable/indexing.html#indexing-view-versus-copy\n",
      "  if sys.path[0] == '':\n"
     ]
    }
   ],
   "source": [
    "# Point of diminishing return for the present data set. \n",
    "\n",
    "dim_ret = podr(dfe)\n",
    "\n",
    "print(\"(x,y) point of diminishing return: \\n\", dim_ret)"
   ]
  },
  {
   "cell_type": "code",
   "execution_count": 81,
   "metadata": {},
   "outputs": [
    {
     "data": {
      "text/plain": [
       "[<matplotlib.lines.Line2D at 0x1a163ec7f0>]"
      ]
     },
     "execution_count": 81,
     "metadata": {},
     "output_type": "execute_result"
    },
    {
     "data": {
      "image/png": "[encoded data removed]",
      "text/plain": [
       "<Figure size 432x288 with 1 Axes>"
      ]
     },
     "metadata": {},
     "output_type": "display_data"
    }
   ],
   "source": [
    "plt.xlim(0,30)\n",
    "plt.ylim(-100,100)\n",
    "plt.plot(dfe['x'],dfe['second'])\n",
    "#plt.scatter(dfe['x'],dfe['second'], color='green')"
   ]
  },
  {
   "cell_type": "markdown",
   "metadata": {},
   "source": [
    "Remarks:  \n",
    "    It can be noticed from this graph that this is much smoother in comparision to  \n",
    "graph of second derivative of unsmoothened data.  \n",
    "\n",
    "\n",
    "Below, we modify the filtering process to automate calculation of size of window. "
   ]
  },
  {
   "cell_type": "code",
   "execution_count": 43,
   "metadata": {},
   "outputs": [],
   "source": [
    "from scipy.signal import savgol_filter\n",
    "\n",
    "def savgol_f(data):\n",
    "    '''Apply the filter with window size 51 and polynomial degree 1. ''' \n",
    "    # We smoothen the data three time whcih in our analysis makes  \n",
    "    # the data sufficently smooth. \n",
    "    # Results of the data are stored in 'ys'\n",
    "    window = 0\n",
    "    if data.shape[0] < 50:\n",
    "        window = 3\n",
    "    elif 50<= data.shape[0] < 500:\n",
    "        window = 11\n",
    "    else:\n",
    "        window = 51\n",
    "    data['ys1']= savgol_filter(data['y'].values, window, 1)\n",
    "    data['ys2']= savgol_filter(data['ys1'].values, window, 1)\n",
    "    data['ys3']= savgol_filter(data['ys2'].values, window, 1)"
   ]
  },
  {
   "cell_type": "code",
   "execution_count": 44,
   "metadata": {},
   "outputs": [],
   "source": [
    "# Program to find the point of moving average for the whole data set. \n",
    "\n",
    "# Corresponding to each key, we find the point of diminishing return,  \n",
    "# whcih is then returned by the function. \n",
    "\n",
    "def podr_full():\n",
    "    points = {}\n",
    "    for k in keys:\n",
    "        data = dfs[k]  # Get the dataframe corresponding to the key. \n",
    "        savgol_f(data) # Apply the filter to smoothen the data\n",
    "        pts = podr(data) # Collect the points of diminishing returns. \n",
    "        points[k] = pts\n",
    "    return points"
   ]
  },
  {
   "cell_type": "code",
   "execution_count": 45,
   "metadata": {},
   "outputs": [
    {
     "name": "stderr",
     "output_type": "stream",
     "text": [
      "/anaconda3/lib/python3.6/site-packages/ipykernel_launcher.py:15: SettingWithCopyWarning: \n",
      "A value is trying to be set on a copy of a slice from a DataFrame.\n",
      "Try using .loc[row_indexer,col_indexer] = value instead\n",
      "\n",
      "See the caveats in the documentation: http://pandas.pydata.org/pandas-docs/stable/indexing.html#indexing-view-versus-copy\n",
      "  from ipykernel import kernelapp as app\n",
      "/anaconda3/lib/python3.6/site-packages/ipykernel_launcher.py:16: SettingWithCopyWarning: \n",
      "A value is trying to be set on a copy of a slice from a DataFrame.\n",
      "Try using .loc[row_indexer,col_indexer] = value instead\n",
      "\n",
      "See the caveats in the documentation: http://pandas.pydata.org/pandas-docs/stable/indexing.html#indexing-view-versus-copy\n",
      "  app.launch_new_instance()\n",
      "/anaconda3/lib/python3.6/site-packages/ipykernel_launcher.py:17: SettingWithCopyWarning: \n",
      "A value is trying to be set on a copy of a slice from a DataFrame.\n",
      "Try using .loc[row_indexer,col_indexer] = value instead\n",
      "\n",
      "See the caveats in the documentation: http://pandas.pydata.org/pandas-docs/stable/indexing.html#indexing-view-versus-copy\n",
      "/anaconda3/lib/python3.6/site-packages/ipykernel_launcher.py:10: SettingWithCopyWarning: \n",
      "A value is trying to be set on a copy of a slice from a DataFrame.\n",
      "Try using .loc[row_indexer,col_indexer] = value instead\n",
      "\n",
      "See the caveats in the documentation: http://pandas.pydata.org/pandas-docs/stable/indexing.html#indexing-view-versus-copy\n",
      "  # Remove the CWD from sys.path while we load stuff.\n",
      "/anaconda3/lib/python3.6/site-packages/ipykernel_launcher.py:12: SettingWithCopyWarning: \n",
      "A value is trying to be set on a copy of a slice from a DataFrame.\n",
      "Try using .loc[row_indexer,col_indexer] = value instead\n",
      "\n",
      "See the caveats in the documentation: http://pandas.pydata.org/pandas-docs/stable/indexing.html#indexing-view-versus-copy\n",
      "  if sys.path[0] == '':\n"
     ]
    }
   ],
   "source": [
    "#  Here we collect all the PODRs corresponding to keys in a dictionary. \n",
    "\n",
    "points_dim = podr_full()"
   ]
  },
  {
   "cell_type": "markdown",
   "metadata": {},
   "source": [
    "Finally, we put the write the dictionary, points_dim into a file. "
   ]
  },
  {
   "cell_type": "code",
   "execution_count": 126,
   "metadata": {},
   "outputs": [],
   "source": [
    "# Create a file 'Output.txt' that has points of diminishing returns for each key. \n",
    "\n",
    "with open('Output.txt', 'w') as f:\n",
    "    for key, value in points_dim.items():\n",
    "        f.write('%s:%s\\n' % (key, value))"
   ]
  },
  {
   "cell_type": "markdown",
   "metadata": {},
   "source": [
    "# Conclusion and results. "
   ]
  },
  {
   "cell_type": "markdown",
   "metadata": {},
   "source": [
    "  \n",
    "    \n",
    "In above, our startegy to find points of diminishing returns was as follows:  \n",
    "    \n",
    "    1) First smoothen the data for each key using a certain filter(Savitzky-Golay).  \n",
    "    \n",
    "    2) Then find the x-value at which the sign of second derivative changes.  \n",
    "    \n",
    "    3) More precisely, for the second part, the x value should be a point where   \n",
    "       second derivative is positive and greater than half of unbiased standard deviation. "
   ]
  },
  {
   "cell_type": "markdown",
   "metadata": {},
   "source": [
    "## Remarks on the Test data set. "
   ]
  },
  {
   "cell_type": "markdown",
   "metadata": {},
   "source": [
    "1) The key corresponding to the data set was 3325878942659180.  \n",
    "\n",
    "2) The (x,y) value of point of diminishing returns obtained was (9.1,1). \n",
    "\n",
    "3) From the graph of un-smoothened data, PODR appeard to be close to 5. \n",
    "\n",
    "4) However, this most likely is due to unobserved noise.  "
   ]
  },
  {
   "cell_type": "code",
   "execution_count": 53,
   "metadata": {},
   "outputs": [
    {
     "data": {
      "image/png": "[encoded data removed]",
      "text/plain": [
       "<Figure size 432x288 with 2 Axes>"
      ]
     },
     "metadata": {},
     "output_type": "display_data"
    }
   ],
   "source": [
    "# Comparison of y value plots with and without smoothing. \n",
    "\n",
    "plt.subplot(1,2,1)\n",
    "plt.xlim(0,50) # Restricting x-vlaues for the above reason. \n",
    "plt.ylim(0,100) # Restricting y-values as standard deviation is small. \n",
    "plt.title('Plot of X-Y values')\n",
    "plt.xlabel('x')\n",
    "plt.ylabel('y')\n",
    "plt.plot(dfe['x'],dfe['y'])\n",
    "\n",
    "plt.subplot(1,2,2)\n",
    "plt.title(\"Y values after smoothing with Savgol\")\n",
    "plt.xlim(0,40)\n",
    "plt.ylim(0,100)\n",
    "plt.ylabel(\"ys3\")\n",
    "plt.xlabel(\"x\")\n",
    "plt.plot(dfe['x'],dfe['ys3'])\n",
    "\n",
    "plt.tight_layout()\n",
    "plt.show()"
   ]
  },
  {
   "cell_type": "markdown",
   "metadata": {},
   "source": [
    "Note:  \n",
    "    It can be observed from the graph of smoothened y value, the point of  \n",
    "    diminishing returns is around 10, which is very close to what we obtained  \n",
    "    analytically above.  "
   ]
  },
  {
   "cell_type": "markdown",
   "metadata": {},
   "source": [
    "## Remarks on whole data set. "
   ]
  },
  {
   "cell_type": "code",
   "execution_count": 100,
   "metadata": {},
   "outputs": [],
   "source": [
    "# As points_dim is a dictionary, extract the (x,y) values first and then\n",
    "#  sort x values. \n",
    "\n",
    "def podr_x_y(pts):\n",
    "    x_val = [] # x coordinate of podr\n",
    "    y_val = [] # y coordinate of podr\n",
    "    vals = list(pts.values())\n",
    "    vals.remove(-1)  # Remove an null value from the list to prevent errors. \n",
    "    for v in vals:\n",
    "        x_val.append(v[0])\n",
    "        y_val.append(v[1])\n",
    "    return x_val, y_val"
   ]
  },
  {
   "cell_type": "code",
   "execution_count": 101,
   "metadata": {},
   "outputs": [],
   "source": [
    "x_cord, y_cord = podr_x_y(points_dim)"
   ]
  },
  {
   "cell_type": "code",
   "execution_count": 103,
   "metadata": {},
   "outputs": [],
   "source": [
    "# Build a data frame to analyze (x,y) values of point of diminishing returns. \n",
    "\n",
    "podrs = pd.DataFrame(list(zip(x_cord,y_cord)), columns=['podr_x','podr_y'])"
   ]
  },
  {
   "cell_type": "code",
   "execution_count": 105,
   "metadata": {},
   "outputs": [
    {
     "data": {
      "text/html": [
       "<div>\n",
       "<style scoped>\n",
       "    .dataframe tbody tr th:only-of-type {\n",
       "        vertical-align: middle;\n",
       "    }\n",
       "\n",
       "    .dataframe tbody tr th {\n",
       "        vertical-align: top;\n",
       "    }\n",
       "\n",
       "    .dataframe thead th {\n",
       "        text-align: right;\n",
       "    }\n",
       "</style>\n",
       "<table border=\"1\" class=\"dataframe\">\n",
       "  <thead>\n",
       "    <tr style=\"text-align: right;\">\n",
       "      <th></th>\n",
       "      <th>podr_x</th>\n",
       "      <th>podr_y</th>\n",
       "    </tr>\n",
       "  </thead>\n",
       "  <tbody>\n",
       "    <tr>\n",
       "      <th>count</th>\n",
       "      <td>172.000000</td>\n",
       "      <td>172.000000</td>\n",
       "    </tr>\n",
       "    <tr>\n",
       "      <th>mean</th>\n",
       "      <td>16.704651</td>\n",
       "      <td>0.697674</td>\n",
       "    </tr>\n",
       "    <tr>\n",
       "      <th>std</th>\n",
       "      <td>68.778770</td>\n",
       "      <td>2.757530</td>\n",
       "    </tr>\n",
       "    <tr>\n",
       "      <th>min</th>\n",
       "      <td>0.090000</td>\n",
       "      <td>0.000000</td>\n",
       "    </tr>\n",
       "    <tr>\n",
       "      <th>25%</th>\n",
       "      <td>1.870000</td>\n",
       "      <td>0.000000</td>\n",
       "    </tr>\n",
       "    <tr>\n",
       "      <th>50%</th>\n",
       "      <td>4.285000</td>\n",
       "      <td>0.000000</td>\n",
       "    </tr>\n",
       "    <tr>\n",
       "      <th>75%</th>\n",
       "      <td>7.942500</td>\n",
       "      <td>0.000000</td>\n",
       "    </tr>\n",
       "    <tr>\n",
       "      <th>max</th>\n",
       "      <td>702.490000</td>\n",
       "      <td>29.000000</td>\n",
       "    </tr>\n",
       "  </tbody>\n",
       "</table>\n",
       "</div>"
      ],
      "text/plain": [
       "           podr_x      podr_y\n",
       "count  172.000000  172.000000\n",
       "mean    16.704651    0.697674\n",
       "std     68.778770    2.757530\n",
       "min      0.090000    0.000000\n",
       "25%      1.870000    0.000000\n",
       "50%      4.285000    0.000000\n",
       "75%      7.942500    0.000000\n",
       "max    702.490000   29.000000"
      ]
     },
     "execution_count": 105,
     "metadata": {},
     "output_type": "execute_result"
    }
   ],
   "source": [
    "podrs.describe()"
   ]
  },
  {
   "cell_type": "markdown",
   "metadata": {},
   "source": [
    "Remarks:  \n",
    "    1) From above, it is clear that majority of x values are less than 8.  \n",
    "    2) The y-values on the other hand are stay very close to 0. Note that  \n",
    "       this is affected by our choice of cut-off in second derivative. "
   ]
  },
  {
   "cell_type": "code",
   "execution_count": 134,
   "metadata": {},
   "outputs": [
    {
     "name": "stderr",
     "output_type": "stream",
     "text": [
      "/anaconda3/lib/python3.6/site-packages/matplotlib/axes/_axes.py:6462: UserWarning: The 'normed' kwarg is deprecated, and has been replaced by the 'density' kwarg.\n",
      "  warnings.warn(\"The 'normed' kwarg is deprecated, and has been \"\n"
     ]
    },
    {
     "data": {
      "text/plain": [
       "<matplotlib.axes._subplots.AxesSubplot at 0x1a144c6048>"
      ]
     },
     "execution_count": 134,
     "metadata": {},
     "output_type": "execute_result"
    },
    {
     "data": {
      "image/png": "[encoded data removed]",
      "text/plain": [
       "<Figure size 432x288 with 1 Axes>"
      ]
     },
     "metadata": {},
     "output_type": "display_data"
    }
   ],
   "source": [
    "# Studying the X,Y values and their relationships. \n",
    "\n",
    "import seaborn as sns\n",
    "sns.distplot(podrs['podr_x'])"
   ]
  },
  {
   "cell_type": "code",
   "execution_count": 125,
   "metadata": {},
   "outputs": [
    {
     "name": "stderr",
     "output_type": "stream",
     "text": [
      "/anaconda3/lib/python3.6/site-packages/matplotlib/axes/_axes.py:6462: UserWarning: The 'normed' kwarg is deprecated, and has been replaced by the 'density' kwarg.\n",
      "  warnings.warn(\"The 'normed' kwarg is deprecated, and has been \"\n"
     ]
    },
    {
     "data": {
      "text/plain": [
       "<matplotlib.axes._subplots.AxesSubplot at 0x1a11f91c88>"
      ]
     },
     "execution_count": 125,
     "metadata": {},
     "output_type": "execute_result"
    },
    {
     "data": {
      "image/png": "[encoded data removed]",
      "text/plain": [
       "<Figure size 432x288 with 1 Axes>"
      ]
     },
     "metadata": {},
     "output_type": "display_data"
    }
   ],
   "source": [
    "sns.distplot(podrs['podr_y'],color='r')"
   ]
  },
  {
   "cell_type": "code",
   "execution_count": 133,
   "metadata": {},
   "outputs": [
    {
     "data": {
      "image/png": "[encoded data removed]",
      "text/plain": [
       "<Figure size 432x288 with 2 Axes>"
      ]
     },
     "metadata": {},
     "output_type": "display_data"
    }
   ],
   "source": [
    "# Pair plot of (x,y). \n",
    "\n",
    "# Unscaled version. \n",
    "plt.subplot(1,2,1)\n",
    "plt.title(\"Unscaled\")\n",
    "plt.xlabel(\"podr_x\")\n",
    "plt.ylabel(\"podr_y\")\n",
    "plt.scatter(podrs['podr_x'],podrs['podr_y'])\n",
    "\n",
    "# As most of the x vlaues are concentrated below 20 we restrict the values. \n",
    "plt.subplot(1,2,2)\n",
    "plt.title(\"Restricted x values.\")\n",
    "plt.xlim(0,20)\n",
    "plt.xlabel(\"podr_x\")\n",
    "plt.ylabel(\"podr_y\")\n",
    "plt.scatter(podrs['podr_x'],podrs['podr_y'])\n",
    "\n",
    "plt.tight_layout()\n",
    "plt.show()"
   ]
  },
  {
   "cell_type": "code",
   "execution_count": 138,
   "metadata": {},
   "outputs": [
    {
     "name": "stdout",
     "output_type": "stream",
     "text": [
      "Stats for x values \n",
      " DescribeResult(nobs=172, minmax=(0.09, 702.49), mean=16.7046511627907, variance=4730.519219175847, skewness=8.096314858509496, kurtosis=70.90518404300734)\n",
      "Stats for y values \n",
      " DescribeResult(nobs=172, minmax=(0, 29), mean=0.6976744186046512, variance=7.603971168230651, skewness=7.5180903159320325, kurtosis=67.11629732584092)\n"
     ]
    }
   ],
   "source": [
    "# Statistical properties of podr_x and podr_y. \n",
    "\n",
    "from scipy import stats\n",
    "\n",
    "print(\"Stats for x values \\n\", stats.describe(podrs['podr_x']))\n",
    "print(\"Stats for y values \\n\", stats.describe(podrs['podr_y']))"
   ]
  },
  {
   "cell_type": "markdown",
   "metadata": {},
   "source": [
    "**Remarks**:  \n",
    "    \n",
    "    1) From the disribution plots of 'x' and 'y' along with the Kurtosis, skewness data from here,\n",
    "       it's clear that both x and y have heavy tails.  \n",
    "        \n",
    "    2) This indicates presence of many outliers, which due to variance in the data  \n",
    "        is not so surpsrising. \n",
    "        \n",
    "    3) Possible distributions therefore are Weibull, Logistic, Log-normal etc."
   ]
  },
  {
   "cell_type": "code",
   "execution_count": 169,
   "metadata": {},
   "outputs": [],
   "source": [
    "# Closer look at distribution of x values. \n",
    "\n",
    "# create a list. \n",
    "podrs['Key'] = list(points_dim.keys())\n",
    "\n",
    "# Now split the data frames based on the range of x values. \n",
    "\n",
    "x_1 = podrs[podrs['podr_x'] < 17]   # xvalues less than 17. \n",
    "x_2 = podrs[podrs['podr_x'].between(18,200)]\n",
    "x_3 = podrs[podrs['podr_x'] > 200]"
   ]
  },
  {
   "cell_type": "code",
   "execution_count": 171,
   "metadata": {},
   "outputs": [],
   "source": [
    "# Dependence of size of data sets on x values. \n",
    "\n",
    "# For each of the above data sets of x above, we compute the mean size of data set  \n",
    "# corresponding to each key. \n",
    "\n",
    "\n",
    "def find_avg(data):\n",
    "    count = 1\n",
    "    sums = 0\n",
    "    for k in data['Key']:\n",
    "        sums += dfs[k].shape[0]\n",
    "        count += 1\n",
    "    mean = sums/count\n",
    "    return mean"
   ]
  },
  {
   "cell_type": "code",
   "execution_count": 180,
   "metadata": {},
   "outputs": [
    {
     "name": "stdout",
     "output_type": "stream",
     "text": [
      "Number of data sets with podr_x less than 17 is 161 and mean size of data sets is 900.7654320987655\n",
      "\n"
     ]
    }
   ],
   "source": [
    "print(\"Number of data sets with podr_x less than 17 is {} and mean size of data sets is {}\\n\"\n",
    "      .format(x_1.shape[0],find_avg(x_1)))"
   ]
  },
  {
   "cell_type": "code",
   "execution_count": 181,
   "metadata": {},
   "outputs": [
    {
     "name": "stdout",
     "output_type": "stream",
     "text": [
      "Number of data sets with podr_x in (18,200) is 9 and mean size of data sets is 1126.6\n",
      "\n"
     ]
    }
   ],
   "source": [
    "print(\"Number of data sets with podr_x in (18,200) is {} and mean size of data sets is {}\\n\"\n",
    "      .format(x_2.shape[0],find_avg(x_2)))"
   ]
  },
  {
   "cell_type": "code",
   "execution_count": 182,
   "metadata": {},
   "outputs": [
    {
     "name": "stdout",
     "output_type": "stream",
     "text": [
      "Number of data sets with podr_x greater than 200 is 2 and mean size of data sets is 1495.3333333333333\n",
      "\n"
     ]
    }
   ],
   "source": [
    "print(\"Number of data sets with podr_x greater than 200 is {} and mean size of data sets is {}\\n\"\n",
    "      .format(x_3.shape[0],find_avg(x_3)))"
   ]
  },
  {
   "cell_type": "markdown",
   "metadata": {},
   "source": [
    "**Conclusion**:  \n",
    "    As there are 161 data sets out of 173 with x coordinate of point of diminishing returns  \n",
    "    less than 17, which is 1 standard deviation from mean, we can *confidently* say that  \n",
    "    based on our analysis, the x-value of points of diminishing return lies in (0,17). "
   ]
  },
  {
   "cell_type": "markdown",
   "metadata": {},
   "source": [
    "** Distribution of point of diminishing returns.**\n",
    "\n",
    "The data considered here is the x coordinate of points of diminishing returns only for those keys  \n",
    "that aren't outliers. "
   ]
  },
  {
   "cell_type": "code",
   "execution_count": 186,
   "metadata": {},
   "outputs": [
    {
     "name": "stderr",
     "output_type": "stream",
     "text": [
      "/anaconda3/lib/python3.6/site-packages/matplotlib/axes/_axes.py:6462: UserWarning: The 'normed' kwarg is deprecated, and has been replaced by the 'density' kwarg.\n",
      "  warnings.warn(\"The 'normed' kwarg is deprecated, and has been \"\n"
     ]
    },
    {
     "data": {
      "text/plain": [
       "<matplotlib.axes._subplots.AxesSubplot at 0x1a139d19e8>"
      ]
     },
     "execution_count": 186,
     "metadata": {},
     "output_type": "execute_result"
    },
    {
     "data": {
      "image/png": "[encoded data removed]",
      "text/plain": [
       "<Figure size 432x288 with 1 Axes>"
      ]
     },
     "metadata": {},
     "output_type": "display_data"
    }
   ],
   "source": [
    "# Distribution plot. \n",
    "\n",
    "sns.distplot(x_1['podr_x'])"
   ]
  },
  {
   "cell_type": "code",
   "execution_count": 221,
   "metadata": {},
   "outputs": [
    {
     "data": {
      "text/plain": [
       "<matplotlib.axes._subplots.AxesSubplot at 0x1c241dce48>"
      ]
     },
     "execution_count": 221,
     "metadata": {},
     "output_type": "execute_result"
    },
    {
     "data": {
      "image/png": "[encoded data removed]",
      "text/plain": [
       "<Figure size 432x288 with 1 Axes>"
      ]
     },
     "metadata": {},
     "output_type": "display_data"
    }
   ],
   "source": [
    "# Improved scatter plot of x and y coordinates of points of diminishing returns. \n",
    "\n",
    "sns.regplot(x_1['podr_x'], x_1['podr_y'])"
   ]
  },
  {
   "cell_type": "markdown",
   "metadata": {},
   "source": [
    "To find out the distribution of x-values of points of diminishing returns,  \n",
    "we tried fitting several heavy-tailed distributions like Log-normal, Weibull etc.  \n",
    "\n",
    "Below we use the fitter package to try a large family of distributions. "
   ]
  },
  {
   "cell_type": "code",
   "execution_count": 227,
   "metadata": {},
   "outputs": [],
   "source": [
    "%%capture\n",
    "from fitter import Fitter\n",
    "f = Fitter(x_1['podr_x'])\n",
    "f.fit()\n",
    "Dist = f.summary()"
   ]
  },
  {
   "cell_type": "markdown",
   "metadata": {},
   "source": [
    "** Candidates for distribution of x coordinates of Points of diminishing returns.** "
   ]
  },
  {
   "cell_type": "code",
   "execution_count": 228,
   "metadata": {},
   "outputs": [
    {
     "data": {
      "text/html": [
       "<div>\n",
       "<style scoped>\n",
       "    .dataframe tbody tr th:only-of-type {\n",
       "        vertical-align: middle;\n",
       "    }\n",
       "\n",
       "    .dataframe tbody tr th {\n",
       "        vertical-align: top;\n",
       "    }\n",
       "\n",
       "    .dataframe thead th {\n",
       "        text-align: right;\n",
       "    }\n",
       "</style>\n",
       "<table border=\"1\" class=\"dataframe\">\n",
       "  <thead>\n",
       "    <tr style=\"text-align: right;\">\n",
       "      <th></th>\n",
       "      <th>sumsquare_error</th>\n",
       "    </tr>\n",
       "  </thead>\n",
       "  <tbody>\n",
       "    <tr>\n",
       "      <th>exponnorm</th>\n",
       "      <td>0.212429</td>\n",
       "    </tr>\n",
       "    <tr>\n",
       "      <th>wald</th>\n",
       "      <td>0.215552</td>\n",
       "    </tr>\n",
       "    <tr>\n",
       "      <th>gilbrat</th>\n",
       "      <td>0.220310</td>\n",
       "    </tr>\n",
       "    <tr>\n",
       "      <th>fatiguelife</th>\n",
       "      <td>0.227331</td>\n",
       "    </tr>\n",
       "    <tr>\n",
       "      <th>genexpon</th>\n",
       "      <td>0.228882</td>\n",
       "    </tr>\n",
       "  </tbody>\n",
       "</table>\n",
       "</div>"
      ],
      "text/plain": [
       "             sumsquare_error\n",
       "exponnorm           0.212429\n",
       "wald                0.215552\n",
       "gilbrat             0.220310\n",
       "fatiguelife         0.227331\n",
       "genexpon            0.228882"
      ]
     },
     "execution_count": 228,
     "metadata": {},
     "output_type": "execute_result"
    }
   ],
   "source": [
    "# Print the summary and the figure. \n",
    "Dist"
   ]
  },
  {
   "cell_type": "code",
   "execution_count": 235,
   "metadata": {},
   "outputs": [
    {
     "name": "stderr",
     "output_type": "stream",
     "text": [
      "/anaconda3/lib/python3.6/site-packages/matplotlib/axes/_axes.py:6462: UserWarning: The 'normed' kwarg is deprecated, and has been replaced by the 'density' kwarg.\n",
      "  warnings.warn(\"The 'normed' kwarg is deprecated, and has been \"\n"
     ]
    },
    {
     "data": {
      "text/plain": [
       "<matplotlib.axes._subplots.AxesSubplot at 0x1c241fc668>"
      ]
     },
     "execution_count": 235,
     "metadata": {},
     "output_type": "execute_result"
    },
    {
     "data": {
      "image/png": "[encoded data removed]",
      "text/plain": [
       "<Figure size 432x288 with 1 Axes>"
      ]
     },
     "metadata": {},
     "output_type": "display_data"
    }
   ],
   "source": [
    "# Plotting the pdf of the distribution above. \n",
    "\n",
    "f.plot_pdf(names=['exponnorm','wald','genexpon'])\n",
    "sns.distplot(x_1['podr_x'])"
   ]
  },
  {
   "cell_type": "code",
   "execution_count": 238,
   "metadata": {},
   "outputs": [
    {
     "name": "stdout",
     "output_type": "stream",
     "text": [
      "The best distribution fit is: \n",
      " {'exponnorm': (11.251826911535673, 0.6238283113974579, 0.3688472985407686)}\n"
     ]
    }
   ],
   "source": [
    "# Finally, the best fit distribution can be given as:\n",
    "\n",
    "print(\"The best distribution fit is: \\n\", f.get_best())"
   ]
  },
  {
   "cell_type": "code",
   "execution_count": null,
   "metadata": {},
   "outputs": [],
   "source": []
  },
  {
   "cell_type": "code",
   "execution_count": null,
   "metadata": {},
   "outputs": [],
   "source": []
  },
  {
   "cell_type": "code",
   "execution_count": null,
   "metadata": {},
   "outputs": [],
   "source": []
  },
  {
   "cell_type": "code",
   "execution_count": null,
   "metadata": {},
   "outputs": [],
   "source": []
  },
  {
   "cell_type": "code",
   "execution_count": null,
   "metadata": {},
   "outputs": [],
   "source": []
  },
  {
   "cell_type": "code",
   "execution_count": null,
   "metadata": {},
   "outputs": [],
   "source": []
  },
  {
   "cell_type": "code",
   "execution_count": null,
   "metadata": {},
   "outputs": [],
   "source": []
  },
  {
   "cell_type": "code",
   "execution_count": null,
   "metadata": {},
   "outputs": [],
   "source": []
  },
  {
   "cell_type": "code",
   "execution_count": null,
   "metadata": {},
   "outputs": [],
   "source": []
  },
  {
   "cell_type": "code",
   "execution_count": null,
   "metadata": {},
   "outputs": [],
   "source": []
  },
  {
   "cell_type": "code",
   "execution_count": null,
   "metadata": {},
   "outputs": [],
   "source": []
  },
  {
   "cell_type": "code",
   "execution_count": null,
   "metadata": {},
   "outputs": [],
   "source": []
  },
  {
   "cell_type": "code",
   "execution_count": null,
   "metadata": {},
   "outputs": [],
   "source": []
  },
  {
   "cell_type": "code",
   "execution_count": null,
   "metadata": {},
   "outputs": [],
   "source": []
  },
  {
   "cell_type": "code",
   "execution_count": null,
   "metadata": {},
   "outputs": [],
   "source": []
  },
  {
   "cell_type": "code",
   "execution_count": null,
   "metadata": {},
   "outputs": [],
   "source": []
  },
  {
   "cell_type": "code",
   "execution_count": null,
   "metadata": {},
   "outputs": [],
   "source": []
  },
  {
   "cell_type": "code",
   "execution_count": null,
   "metadata": {},
   "outputs": [],
   "source": []
  },
  {
   "cell_type": "code",
   "execution_count": null,
   "metadata": {},
   "outputs": [],
   "source": []
  },
  {
   "cell_type": "code",
   "execution_count": null,
   "metadata": {},
   "outputs": [],
   "source": []
  },
  {
   "cell_type": "code",
   "execution_count": null,
   "metadata": {},
   "outputs": [],
   "source": []
  },
  {
   "cell_type": "code",
   "execution_count": null,
   "metadata": {},
   "outputs": [],
   "source": []
  },
  {
   "cell_type": "code",
   "execution_count": null,
   "metadata": {},
   "outputs": [],
   "source": []
  },
  {
   "cell_type": "code",
   "execution_count": null,
   "metadata": {},
   "outputs": [],
   "source": []
  },
  {
   "cell_type": "code",
   "execution_count": null,
   "metadata": {},
   "outputs": [],
   "source": []
  },
  {
   "cell_type": "code",
   "execution_count": null,
   "metadata": {},
   "outputs": [],
   "source": []
  },
  {
   "cell_type": "code",
   "execution_count": null,
   "metadata": {},
   "outputs": [],
   "source": []
  },
  {
   "cell_type": "code",
   "execution_count": null,
   "metadata": {},
   "outputs": [],
   "source": []
  },
  {
   "cell_type": "code",
   "execution_count": null,
   "metadata": {},
   "outputs": [],
   "source": []
  },
  {
   "cell_type": "code",
   "execution_count": null,
   "metadata": {},
   "outputs": [],
   "source": []
  },
  {
   "cell_type": "code",
   "execution_count": null,
   "metadata": {},
   "outputs": [],
   "source": []
  },
  {
   "cell_type": "code",
   "execution_count": null,
   "metadata": {},
   "outputs": [],
   "source": []
  },
  {
   "cell_type": "code",
   "execution_count": null,
   "metadata": {},
   "outputs": [],
   "source": []
  },
  {
   "cell_type": "code",
   "execution_count": null,
   "metadata": {},
   "outputs": [],
   "source": []
  },
  {
   "cell_type": "code",
   "execution_count": null,
   "metadata": {},
   "outputs": [],
   "source": []
  },
  {
   "cell_type": "code",
   "execution_count": null,
   "metadata": {},
   "outputs": [],
   "source": []
  },
  {
   "cell_type": "code",
   "execution_count": null,
   "metadata": {},
   "outputs": [],
   "source": []
  },
  {
   "cell_type": "code",
   "execution_count": null,
   "metadata": {},
   "outputs": [],
   "source": []
  },
  {
   "cell_type": "code",
   "execution_count": null,
   "metadata": {},
   "outputs": [],
   "source": []
  },
  {
   "cell_type": "code",
   "execution_count": null,
   "metadata": {},
   "outputs": [],
   "source": []
  },
  {
   "cell_type": "code",
   "execution_count": null,
   "metadata": {},
   "outputs": [],
   "source": []
  },
  {
   "cell_type": "code",
   "execution_count": null,
   "metadata": {},
   "outputs": [],
   "source": []
  },
  {
   "cell_type": "code",
   "execution_count": null,
   "metadata": {},
   "outputs": [],
   "source": []
  },
  {
   "cell_type": "code",
   "execution_count": null,
   "metadata": {},
   "outputs": [],
   "source": []
  },
  {
   "cell_type": "code",
   "execution_count": null,
   "metadata": {},
   "outputs": [],
   "source": []
  },
  {
   "cell_type": "code",
   "execution_count": null,
   "metadata": {},
   "outputs": [],
   "source": []
  },
  {
   "cell_type": "code",
   "execution_count": null,
   "metadata": {},
   "outputs": [],
   "source": []
  },
  {
   "cell_type": "code",
   "execution_count": null,
   "metadata": {},
   "outputs": [],
   "source": []
  }
 ],
 "metadata": {
  "kernelspec": {
   "display_name": "Python 3",
   "language": "python",
   "name": "python3"
  },
  "language_info": {
   "codemirror_mode": {
    "name": "ipython",
    "version": 3
   },
   "file_extension": ".py",
   "mimetype": "text/x-python",
   "name": "python",
   "nbconvert_exporter": "python",
   "pygments_lexer": "ipython3",
   "version": "3.6.5"
  }
 },
 "nbformat": 4,
 "nbformat_minor": 2
}
